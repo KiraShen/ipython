{
 "cells": [
  {
   "cell_type": "markdown",
   "metadata": {},
   "source": [
    "## 变量\n",
    "- 变量包括了：变量的标识、名称、数据；变量名称相同，该变量不一定相同，因为标识不同\n",
    "- 变量不需要声明，直接赋值，赋值即完成了声明和定义\n",
    "- 所以在使用变量前，必须先赋值，否则该变量不存在\n",
    "- 函数内部的为局部变量，可以用global引申为全局变量"
   ]
  },
  {
   "cell_type": "code",
   "execution_count": 1,
   "metadata": {},
   "outputs": [
    {
     "name": "stdout",
     "output_type": "stream",
     "text": [
      "4431476064\n",
      "4431476096\n",
      "10\n",
      "12\n"
     ]
    }
   ],
   "source": [
    "#变量名称相同，该变量不一定相同，因为标识不同\n",
    "x = 1\n",
    "print(id(x))\n",
    "x = 2\n",
    "print(id(x))\n",
    "#所以在使用变量前，必须先赋值\n",
    "#print(y)\n",
    "\n",
    "def fun():\n",
    "    global a\n",
    "    a=10\n",
    "    print(a)\n",
    "fun()\n",
    "print(a+x)"
   ]
  },
  {
   "cell_type": "markdown",
   "metadata": {},
   "source": [
    "## 数据类型\n",
    "- python根据变量的值自动判别类型\n",
    "- python自动为该变量的生命周期负责\n",
    "- 因此所有类型均是python对象\n",
    "- 通过内置函数type()查看变量的类型\n",
    "- 类型包括：数字、None、字符串、列表、集合、元组、字典"
   ]
  },
  {
   "cell_type": "markdown",
   "metadata": {},
   "source": [
    "### 数字\n",
    "- 根据变量值自动转化\n",
    "- None表示什么都没有"
   ]
  },
  {
   "cell_type": "code",
   "execution_count": 14,
   "metadata": {},
   "outputs": [
    {
     "name": "stdout",
     "output_type": "stream",
     "text": [
      "<class 'int'>\n",
      "<class 'float'>\n",
      "<class 'int'>\n",
      "<class 'complex'>\n",
      "<class 'bool'>\n",
      "<class 'NoneType'>\n"
     ]
    }
   ],
   "source": [
    "# 数字\n",
    "x=1\n",
    "print(type(x))\n",
    "x=1.1\n",
    "print(type(x))\n",
    "x=1111111111\n",
    "print(type(x))\n",
    "x=1-2j\n",
    "print(type(x))\n",
    "x=False\n",
    "print(type(x))\n",
    "x=None\n",
    "print(type(x))"
   ]
  },
  {
   "cell_type": "markdown",
   "metadata": {},
   "source": [
    "### 字符串\n",
    "- 使用' ',\" \",''' ''',表示\n",
    "- 连接操作+、重复操作*、切片操作[]\n",
    "- help(str)查看字符串内置函数"
   ]
  },
  {
   "cell_type": "code",
   "execution_count": 2,
   "metadata": {},
   "outputs": [
    {
     "name": "stdout",
     "output_type": "stream",
     "text": [
      "hello  world,i'm shen.\n",
      "hellohello\n",
      "shen\n"
     ]
    }
   ],
   "source": [
    "a = \"hello\"\n",
    "b = \"  world\"\n",
    "c = \",i'm shen.\"\n",
    "print(a+b+c)\n",
    "print(a*2)\n",
    "print(c[5:9])\n",
    "\n",
    "#help(str)"
   ]
  },
  {
   "cell_type": "markdown",
   "metadata": {},
   "source": [
    "### 列表-list\n",
    "- 一系列元素包含在[]中，数据可以是任意类\n",
    "- list可以增删改查\n",
    "- list是有序列表，从0开始访问\n",
    "- 一些操作：索引，分片，序列相加，相乘，成员资格操作等"
   ]
  },
  {
   "cell_type": "code",
   "execution_count": 96,
   "metadata": {},
   "outputs": [
    {
     "name": "stdout",
     "output_type": "stream",
     "text": [
      "<class 'list'>\n",
      "[1, 2, 'apple', 'banana']\n",
      "2\n",
      "banana\n",
      "[['apple', 'banana'], False]\n",
      "[[1, 2, 3], ['apple', 'banana'], False, (1, 2, 3), 'people', ['cat', 'dog']]\n",
      "[[1, 2, 3], ['apple', 'banana'], False, ['hello', 'world'], (1, 2, 3), 'people', ['cat', 'dog']]\n",
      "[[1, 2, 3], ['apple', 'banana'], (1, 2, 3), 'people', ['cat', 'dog']]\n",
      "['3', ['apple', 'banana'], (1, 2, 3), 'people', ['cat', 'dog']]\n",
      "3\n",
      "False\n",
      "['a', 'c', 'j']\n",
      "['j', 'c', 'a']\n"
     ]
    }
   ],
   "source": [
    "#创建使用[]\n",
    "l = [1,2,\"apple\",\"banana\"]\n",
    "print(type(l))\n",
    "print(l)\n",
    "\n",
    "#索引使用[]\n",
    "l = [[1,2,3],[\"apple\",\"banana\"],False,(1,2,3),\"people\"]\n",
    "print(l[0][1])\n",
    "print(l[1][1])\n",
    "\n",
    "#切片使用[n:m]\n",
    "print(l[1:3])\n",
    "\n",
    "#增加\n",
    "#在末尾增加\n",
    "l.append([\"cat\",\"dog\"])\n",
    "print(l)\n",
    "#在指定位置增加，insert(index,object)\n",
    "l.insert(3,[\"hello\",\"world\"])\n",
    "print(l)\n",
    "\n",
    "#删除\n",
    "#删除指定的值，remove(value)\n",
    "#先判断该数据是否在此list中\n",
    "if False in l:\n",
    "    l.remove(False)\n",
    "#删除索引值，如果不指定则删除最后一个，pop([index])\n",
    "l.pop(2)\n",
    "print(l)\n",
    "\n",
    "#修改\n",
    "l[0]=\"3\"\n",
    "print(l)\n",
    "\n",
    "#查找 \n",
    "#index(value[,start[,end]]) 存在返回索引 不存在报错\n",
    "#in 存在True 不存在False\n",
    "print(l.index(\"people\"))\n",
    "print(False in l)\n",
    "\n",
    "#排序,仅对单类型的排序\n",
    "ll = [\"a\",\"j\",\"c\"]\n",
    "ll.sort()\n",
    "print(ll)\n",
    "#反转\n",
    "ll.reverse()\n",
    "print(ll)\n",
    "\n",
    "#help(list)"
   ]
  },
  {
   "cell_type": "code",
   "execution_count": 3,
   "metadata": {},
   "outputs": [
    {
     "name": "stdout",
     "output_type": "stream",
     "text": [
      "[1, 2, 3, 4, 5, 6, 7]\n",
      "pop: 7\n",
      "[1, 2, 3, 4, 5, 6]\n",
      "['a', 'b', 'c', 'd', 'e', 'f']\n",
      "pop: a\n",
      "['b', 'c', 'd', 'e', 'f']\n"
     ]
    }
   ],
   "source": [
    "#python完全可以用list实现堆栈、队列，比C/java方便\n",
    "#堆栈，先进后出，插入元素指针指向新元素，弹出元素指针指向下一个元素\n",
    "#队列，先进先出，首尾指针，插入元素尾指针指向新元素，弹出元素首指针指向第二个元素\n",
    "\n",
    "#实现堆栈\n",
    "stack = [1,2,3,4,5,6]\n",
    "stack.append(7)#push\n",
    "print(stack)\n",
    "value = stack.pop()#pop\n",
    "print(\"pop:\",value)\n",
    "print(stack)\n",
    "\n",
    "#实现队列\n",
    "queue = ['a','b','c','d','e']\n",
    "queue.append('f')#push\n",
    "print(queue)\n",
    "value = queue.pop(0)#pop\n",
    "print(\"pop:\",value)\n",
    "print(queue)"
   ]
  },
  {
   "cell_type": "markdown",
   "metadata": {},
   "source": [
    "### 元组-tuple\n",
    "- 一系列元素包含在()中，数据可以是任意类\n",
    "- 写保护：一旦定义则无法修改，所以长度也固定了\n",
    "- 元组是有序列表，从0开始访问\n",
    "- 一些操作：索引，分片，序列相加，相乘，成员资格操作等"
   ]
  },
  {
   "cell_type": "code",
   "execution_count": 73,
   "metadata": {},
   "outputs": [
    {
     "name": "stdout",
     "output_type": "stream",
     "text": [
      "a\n",
      "<class 'str'>\n",
      "apple\n",
      "<class 'tuple'>\n",
      "banana\n",
      "1\n",
      "(('cat', 'dog'), 'people')\n",
      "tuple0:\n",
      "apple\n",
      "banana\n",
      "tuple1:\n",
      "cat\n",
      "dog\n",
      "tuple2:\n",
      "p\n",
      "e\n",
      "o\n",
      "p\n",
      "l\n",
      "e\n",
      "tuple3:\n",
      "2\n",
      "2\n",
      "1\n"
     ]
    }
   ],
   "source": [
    "#创建使用()\n",
    "#tuple单元素定义时，加逗号，因为单元素时，python无法区分()是表达式还是tuple\"\n",
    "t = (\"apple\")\n",
    "print(t[0])\n",
    "print(type(t))\n",
    "t = (\"apple\",)\n",
    "print(t[0])\n",
    "print(type(t))\n",
    "\n",
    "#不能修改\n",
    "#t[0]=\"banana\"\n",
    "\n",
    "#索引使用[]\n",
    "t = ((\"apple\",\"banana\"),(\"cat\",\"dog\"),\"people\",[2,2,1])\n",
    "print(t[0][1])\n",
    "print(t[3][2])\n",
    "\n",
    "#切片使用[n:m]\n",
    "print(t[1:3])\n",
    "\n",
    "#遍历，长度len()，遍历range(), 成员访问\n",
    "for i in range(len(t)):\n",
    "    print(\"tuple{0}:\".format(i))\n",
    "#     for j in range(len(t[i])):\n",
    "#         print(t[i][j])\n",
    "    for j in t[i]:\n",
    "        print(j) \n",
    "\n",
    "#help\n",
    "#help(tuple)"
   ]
  },
  {
   "cell_type": "markdown",
   "metadata": {},
   "source": [
    "### 字典-dict\n",
    "- 数据以“键-值”形式出现，包含在{}中\n",
    "- 字典中的数据每个都有“键-值”对组成，\n",
    "    - key: 必须是可哈希的值，比如int,string,float,tuple, 但是，list,set,dict 不行\n",
    "    - value: 任何值\n",
    "- 字典是序列类型，但是是无序序列，所以没有分片和索引\n",
    "- 字典可以增删改查，访问通过key"
   ]
  },
  {
   "cell_type": "code",
   "execution_count": 121,
   "metadata": {},
   "outputs": [
    {
     "name": "stdout",
     "output_type": "stream",
     "text": [
      "3\n",
      "None\n",
      "{'a': 1, 'b': 2, 'c': 0, 'd': 4}\n",
      "{'a': 1, 'b': 2, 'c': 0, 'd': 4, 'e': 5}\n",
      "{'a': 1, 'c': 0, 'd': 4}\n",
      "a:1\n",
      "c:0\n",
      "d:4\n",
      "a:1\n",
      "c:0\n",
      "d:4\n",
      "dict_keys(['a', 'c', 'd'])\n",
      "dict_values([1, 0, 4])\n",
      "{'a': 1, 'c': 0, 'd': 4, 't': True, 'f': 'False'}\n"
     ]
    }
   ],
   "source": [
    "#dict创建\n",
    "d = {\"a\":1,\"b\":2,\"c\":3,\"d\":4}\n",
    "#访问\n",
    "#使用key访问\n",
    "print(d[\"c\"])\n",
    "#使用get()访问，存在返回值，否则返回None\n",
    "print(d.get(\"g\"))\n",
    "#修改\n",
    "d[\"c\"] = 0\n",
    "print(d)\n",
    "#增加\n",
    "d[\"e\"] = 5\n",
    "print(d)\n",
    "#删除\n",
    "del(d[\"e\"])\n",
    "d.pop(\"b\")\n",
    "print(d)\n",
    "#清除\n",
    "#d.clear()\n",
    "\n",
    "#遍历\n",
    "# for \n",
    "for k in d:\n",
    "    print(\"{0}:{1}\".format(k,d[k]))\n",
    "# items(),items()把每一对“键-值”组成一个元组\n",
    "for (k,v) in d.items():\n",
    "    print(\"{0}:{1}\".format(k,v))\n",
    "\n",
    "#操作\n",
    "#keys()返回字典的键list\n",
    "#values()返回字典值list\n",
    "print(d.keys())\n",
    "print(d.values())\n",
    "\n",
    "#更新\n",
    "#update，将某字典更新到原字典\n",
    "dd = {'t':True,'f':\"False\"}\n",
    "d.update(dd)\n",
    "print(d)"
   ]
  },
  {
   "cell_type": "markdown",
   "metadata": {},
   "source": [
    "### 集合-set\n",
    "- 集合和数学中的概念差不多,创建使用{}\n",
    "- 一堆确定的无序的唯一的数据，集合中每一个数据成为一个元素\n",
    "- 集合内数据无序，即无法使用索引和分片\n",
    "- 集合内部数据元素具有唯一性，可以用来排除重复数据\n",
    "- 集合内的数据，str, int, float, tuple等，不可以是list"
   ]
  },
  {
   "cell_type": "code",
   "execution_count": 124,
   "metadata": {},
   "outputs": [
    {
     "name": "stdout",
     "output_type": "stream",
     "text": [
      "<class 'set'>\n",
      "<class 'dict'>\n",
      "{545, 1, 3, 2, 4, 23, 223}\n"
     ]
    }
   ],
   "source": [
    "#创建\n",
    "s = {1,2,3,4}\n",
    "print(type(s))\n",
    "#如果是空的，则默认为字典\n",
    "s = {}\n",
    "print(type(s))\n",
    "\n",
    "# 集合在赋值后自动过滤掉重复元素\n",
    "s = {23,223,545,3,1,2,3,4,3,2,3,1,2,4,3}\n",
    "print(s)\n",
    "\n",
    "#集合内置函数\n",
    "# help(set)\n",
    "# intersection: 交集\n",
    "# difference:差集\n",
    "# union: 并集\n",
    "# issubset: 检查一个集合是否为另一个子集\n",
    "# issuperset: 检查一个集合是否为另一个超集"
   ]
  },
  {
   "cell_type": "markdown",
   "metadata": {},
   "source": [
    "## 运算符\n",
    "- 算数运算符\n",
    "- 比较运算符\n",
    "- 赋值运算符\n",
    "- 逻辑运算符\n",
    "- 位运算符\n",
    "- 成员运算符\n",
    "- 身份运算符"
   ]
  },
  {
   "cell_type": "markdown",
   "metadata": {},
   "source": [
    "### 算数运算符\n",
    "- 没有++ --运算\n",
    "- +、 -、 *、 /\n",
    "- // 整除\n",
    "- %  取余\n",
    "- ** 次幂\n",
    "- 优先级：先*/ 后+-"
   ]
  },
  {
   "cell_type": "markdown",
   "metadata": {},
   "source": [
    "### 比较运算符\n",
    "- 等于==\n",
    "- 不等于!=\n",
    "- 大于>\n",
    "- 小于<\n",
    "- 不小于>=\n",
    "- 不大于<=\n",
    "- 优先级：< <= > >=优先级相等，且高于==、！=\n",
    "- 比较运算优先级低于算数运算"
   ]
  },
  {
   "cell_type": "markdown",
   "metadata": {},
   "source": [
    "### 逻辑运算符\n",
    "- and\n",
    "- or\n",
    "- not\n",
    "- 运算规则：按照顺序从左到右运算，一旦确定未来的值不再计算，直接返回\n",
    "- 优先级：and和or相等，且低于not\n",
    "- 逻辑运算优先级低于比较运算"
   ]
  },
  {
   "cell_type": "markdown",
   "metadata": {},
   "source": [
    "### 赋值运算符\n",
    "- =\n",
    "- += -= *= /= //= **="
   ]
  },
  {
   "cell_type": "markdown",
   "metadata": {},
   "source": [
    "### 位运算符\n",
    "- 把数字看出二进制进行按位计算\n",
    "- 位或|\n",
    "- 位与&\n",
    "- 位异或^\n",
    "- 位非~\n",
    "- 左移<<\n",
    "- 右移>>"
   ]
  },
  {
   "cell_type": "markdown",
   "metadata": {},
   "source": [
    "### 身份运算符\n",
    "- name id value \n",
    "- 判断两个变量是否为同一个变量，不意味着值相同，但值相同也未必同一个\n",
    "- is和==区别：is判断两个变量的引用对象是否为同一个，==是判断引用变量的值是否相等\n",
    "- is\n",
    "- not is"
   ]
  },
  {
   "cell_type": "markdown",
   "metadata": {},
   "source": [
    "### 成员运算符\n",
    "- 判断某个变量是否是另一个变量的成员,结果为布尔值\n",
    "- in\n",
    "- not in"
   ]
  },
  {
   "cell_type": "markdown",
   "metadata": {},
   "source": [
    "## 程序结构"
   ]
  },
  {
   "cell_type": "markdown",
   "metadata": {},
   "source": [
    " ### if\n",
    "     if  条件表达式：\n",
    "          语句1\n",
    "          ....\n",
    "      elif 条件表达式：\n",
    "          语句1\n",
    "          ...\n",
    "      elif 条件表达式：\n",
    "          语句1\n",
    "          ...\n",
    "      ...\n",
    "      else:\n",
    "          语句1\n",
    "          ....\n",
    "    - 注意是eiif，不是elseif\n",
    "    - elif 可以由很多个\n",
    "    - 多路分支只会选一个执行"
   ]
  },
  {
   "cell_type": "markdown",
   "metadata": {},
   "source": [
    "### switch\n",
    "- python没有switch-case语句"
   ]
  },
  {
   "cell_type": "markdown",
   "metadata": {},
   "source": [
    "### while\n",
    "- while条件为True时执行，条件为False时执行else，else可以省略    \n",
    "    while  条件表达式：\n",
    "        语句块1\n",
    "    else：\n",
    "        语句块2"
   ]
  },
  {
   "cell_type": "markdown",
   "metadata": {},
   "source": [
    "### for\n",
    "\n",
    "- for循环从集合中取出值执行，集合可以是列表、字典、元组；执行完毕执行else，else可以省略\n",
    "    \n",
    "    for 变量 in 集合：\n",
    "        语句1\n",
    "        语句2\n",
    "        ...\n",
    "    else：\n",
    "        语句1\n",
    "- for循环一般和range()函数搭配使用\n",
    "- range()函数：\n",
    "    - 返回：range对象，常用返回列表\n",
    "    - 参数:(start,end[,step])，其中包括start不包括end，step是步长"
   ]
  },
  {
   "cell_type": "markdown",
   "metadata": {},
   "source": [
    "### break,continue,pass\n",
    "- break： 无条件结束整个循环，简称循环猝死\n",
    "- continue：无条件结束本次循环，从新进入下一轮循环\n",
    "- pass：表示略过，通常用于站位"
   ]
  },
  {
   "cell_type": "code",
   "execution_count": 4,
   "metadata": {},
   "outputs": [
    {
     "name": "stdout",
     "output_type": "stream",
     "text": [
      "[0, 3, 5, 7, 6, 4, 8, 1, 2, 9]\n",
      "[0, 3, 5, 6, 4, 7, 1, 2, 8, 9]\n",
      "[0, 3, 5, 4, 6, 1, 2, 7, 8, 9]\n",
      "[0, 3, 4, 5, 1, 2, 6, 7, 8, 9]\n",
      "[0, 3, 4, 1, 2, 5, 6, 7, 8, 9]\n",
      "[0, 3, 1, 2, 4, 5, 6, 7, 8, 9]\n",
      "[0, 1, 2, 3, 4, 5, 6, 7, 8, 9]\n",
      "[0, 1, 2, 3, 4, 5, 6, 7, 8, 9]\n",
      "[0, 1, 2, 3, 4, 5, 6, 7, 8, 9]\n"
     ]
    }
   ],
   "source": [
    "# 案例示例：冒泡排序\n",
    "def bubbleSort(nums):\n",
    "    for i in range(len(nums)-1,0,-1):\n",
    "        for j in range(i):\n",
    "            if nums[j] > nums[j+1]:\n",
    "                nums[j],nums[j+1] = nums[j+1],nums[j]\n",
    "        print(nums)\n",
    "\n",
    "nums = [0,9,3,5,7,6,4,8,1,2]\n",
    "bubbleSort(nums)"
   ]
  },
  {
   "cell_type": "code",
   "execution_count": null,
   "metadata": {},
   "outputs": [],
   "source": []
  }
 ],
 "metadata": {
  "kernelspec": {
   "display_name": "Python 3",
   "language": "python",
   "name": "python3"
  },
  "language_info": {
   "codemirror_mode": {
    "name": "ipython",
    "version": 3
   },
   "file_extension": ".py",
   "mimetype": "text/x-python",
   "name": "python",
   "nbconvert_exporter": "python",
   "pygments_lexer": "ipython3",
   "version": "3.6.5"
  }
 },
 "nbformat": 4,
 "nbformat_minor": 2
}
