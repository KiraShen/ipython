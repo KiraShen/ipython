{
 "cells": [
  {
   "cell_type": "markdown",
   "metadata": {},
   "source": [
    "# mdesigner3.0的python文档？\n",
    "- 模块、包\n",
    "- 面向对象\n",
    "\n"
   ]
  },
  {
   "cell_type": "code",
   "execution_count": 2,
   "metadata": {},
   "outputs": [
    {
     "name": "stdout",
     "output_type": "stream",
     "text": [
      "Help on built-in module sys:\n",
      "\n",
      "NAME\n",
      "    sys\n",
      "\n",
      "MODULE REFERENCE\n",
      "    https://docs.python.org/3.6/library/sys\n",
      "    \n",
      "    The following documentation is automatically generated from the Python\n",
      "    source files.  It may be incomplete, incorrect or include features that\n",
      "    are considered implementation detail and may vary between Python\n",
      "    implementations.  When in doubt, consult the module reference at the\n",
      "    location listed above.\n",
      "\n",
      "DESCRIPTION\n",
      "    This module provides access to some objects used or maintained by the\n",
      "    interpreter and to functions that interact strongly with the interpreter.\n",
      "    \n",
      "    Dynamic objects:\n",
      "    \n",
      "    argv -- command line arguments; argv[0] is the script pathname if known\n",
      "    path -- module search path; path[0] is the script directory, else ''\n",
      "    modules -- dictionary of loaded modules\n",
      "    \n",
      "    displayhook -- called to show results in an interactive session\n",
      "    excepthook -- called to handle any uncaught exception other than SystemExit\n",
      "      To customize printing in an interactive session or to install a custom\n",
      "      top-level exception handler, assign other functions to replace these.\n",
      "    \n",
      "    stdin -- standard input file object; used by input()\n",
      "    stdout -- standard output file object; used by print()\n",
      "    stderr -- standard error object; used for error messages\n",
      "      By assigning other file objects (or objects that behave like files)\n",
      "      to these, it is possible to redirect all of the interpreter's I/O.\n",
      "    \n",
      "    last_type -- type of last uncaught exception\n",
      "    last_value -- value of last uncaught exception\n",
      "    last_traceback -- traceback of last uncaught exception\n",
      "      These three are only available in an interactive session after a\n",
      "      traceback has been printed.\n",
      "    \n",
      "    Static objects:\n",
      "    \n",
      "    builtin_module_names -- tuple of module names built into this interpreter\n",
      "    copyright -- copyright notice pertaining to this interpreter\n",
      "    exec_prefix -- prefix used to find the machine-specific Python library\n",
      "    executable -- absolute path of the executable binary of the Python interpreter\n",
      "    float_info -- a struct sequence with information about the float implementation.\n",
      "    float_repr_style -- string indicating the style of repr() output for floats\n",
      "    hash_info -- a struct sequence with information about the hash algorithm.\n",
      "    hexversion -- version information encoded as a single integer\n",
      "    implementation -- Python implementation information.\n",
      "    int_info -- a struct sequence with information about the int implementation.\n",
      "    maxsize -- the largest supported length of containers.\n",
      "    maxunicode -- the value of the largest Unicode code point\n",
      "    platform -- platform identifier\n",
      "    prefix -- prefix used to find the Python library\n",
      "    thread_info -- a struct sequence with information about the thread implementation.\n",
      "    version -- the version of this interpreter as a string\n",
      "    version_info -- version information as a named tuple\n",
      "    __stdin__ -- the original stdin; don't touch!\n",
      "    __stdout__ -- the original stdout; don't touch!\n",
      "    __stderr__ -- the original stderr; don't touch!\n",
      "    __displayhook__ -- the original displayhook; don't touch!\n",
      "    __excepthook__ -- the original excepthook; don't touch!\n",
      "    \n",
      "    Functions:\n",
      "    \n",
      "    displayhook() -- print an object to the screen, and save it in builtins._\n",
      "    excepthook() -- print an exception and its traceback to sys.stderr\n",
      "    exc_info() -- return thread-safe information about the current exception\n",
      "    exit() -- exit the interpreter by raising SystemExit\n",
      "    getdlopenflags() -- returns flags to be used for dlopen() calls\n",
      "    getprofile() -- get the global profiling function\n",
      "    getrefcount() -- return the reference count for an object (plus one :-)\n",
      "    getrecursionlimit() -- return the max recursion depth for the interpreter\n",
      "    getsizeof() -- return the size of an object in bytes\n",
      "    gettrace() -- get the global debug tracing function\n",
      "    setcheckinterval() -- control how often the interpreter checks for events\n",
      "    setdlopenflags() -- set the flags to be used for dlopen() calls\n",
      "    setprofile() -- set the global profiling function\n",
      "    setrecursionlimit() -- set the max recursion depth for the interpreter\n",
      "    settrace() -- set the global debug tracing function\n",
      "\n",
      "FUNCTIONS\n",
      "    __displayhook__ = displayhook(...)\n",
      "        displayhook(object) -> None\n",
      "        \n",
      "        Print an object to sys.stdout and also save it in builtins._\n",
      "    \n",
      "    __excepthook__ = excepthook(...)\n",
      "        excepthook(exctype, value, traceback) -> None\n",
      "        \n",
      "        Handle an exception by displaying it with a traceback on sys.stderr.\n",
      "    \n",
      "    call_tracing(...)\n",
      "        call_tracing(func, args) -> object\n",
      "        \n",
      "        Call func(*args), while tracing is enabled.  The tracing state is\n",
      "        saved, and restored afterwards.  This is intended to be called from\n",
      "        a debugger from a checkpoint, to recursively debug some other code.\n",
      "    \n",
      "    callstats(...)\n",
      "        callstats() -> tuple of integers\n",
      "        \n",
      "        Return a tuple of function call statistics, if CALL_PROFILE was defined\n",
      "        when Python was built.  Otherwise, return None.\n",
      "        \n",
      "        When enabled, this function returns detailed, implementation-specific\n",
      "        details about the number of function calls executed. The return value is\n",
      "        a 11-tuple where the entries in the tuple are counts of:\n",
      "        0. all function calls\n",
      "        1. calls to PyFunction_Type objects\n",
      "        2. PyFunction calls that do not create an argument tuple\n",
      "        3. PyFunction calls that do not create an argument tuple\n",
      "           and bypass PyEval_EvalCodeEx()\n",
      "        4. PyMethod calls\n",
      "        5. PyMethod calls on bound methods\n",
      "        6. PyType calls\n",
      "        7. PyCFunction calls\n",
      "        8. generator calls\n",
      "        9. All other calls\n",
      "        10. Number of stack pops performed by call_function()\n",
      "    \n",
      "    exc_info(...)\n",
      "        exc_info() -> (type, value, traceback)\n",
      "        \n",
      "        Return information about the most recent exception caught by an except\n",
      "        clause in the current stack frame or in an older stack frame.\n",
      "    \n",
      "    exit(...)\n",
      "        exit([status])\n",
      "        \n",
      "        Exit the interpreter by raising SystemExit(status).\n",
      "        If the status is omitted or None, it defaults to zero (i.e., success).\n",
      "        If the status is an integer, it will be used as the system exit status.\n",
      "        If it is another kind of object, it will be printed and the system\n",
      "        exit status will be one (i.e., failure).\n",
      "    \n",
      "    get_asyncgen_hooks(...)\n",
      "        get_asyncgen_hooks()\n",
      "        \n",
      "        Return a namedtuple of installed asynchronous generators hooks (firstiter, finalizer).\n",
      "    \n",
      "    get_coroutine_wrapper(...)\n",
      "        get_coroutine_wrapper()\n",
      "        \n",
      "        Return the wrapper for coroutine objects set by sys.set_coroutine_wrapper.\n",
      "    \n",
      "    getallocatedblocks(...)\n",
      "        getallocatedblocks() -> integer\n",
      "        \n",
      "        Return the number of memory blocks currently allocated, regardless of their\n",
      "        size.\n",
      "    \n",
      "    getcheckinterval(...)\n",
      "        getcheckinterval() -> current check interval; see setcheckinterval().\n",
      "    \n",
      "    getdefaultencoding(...)\n",
      "        getdefaultencoding() -> string\n",
      "        \n",
      "        Return the current default string encoding used by the Unicode \n",
      "        implementation.\n",
      "    \n",
      "    getdlopenflags(...)\n",
      "        getdlopenflags() -> int\n",
      "        \n",
      "        Return the current value of the flags that are used for dlopen calls.\n",
      "        The flag constants are defined in the os module.\n",
      "    \n",
      "    getfilesystemencodeerrors(...)\n",
      "        getfilesystemencodeerrors() -> string\n",
      "        \n",
      "        Return the error mode used to convert Unicode filenames in\n",
      "        operating system filenames.\n",
      "    \n",
      "    getfilesystemencoding(...)\n",
      "        getfilesystemencoding() -> string\n",
      "        \n",
      "        Return the encoding used to convert Unicode filenames in\n",
      "        operating system filenames.\n",
      "    \n",
      "    getprofile(...)\n",
      "        getprofile()\n",
      "        \n",
      "        Return the profiling function set with sys.setprofile.\n",
      "        See the profiler chapter in the library manual.\n",
      "    \n",
      "    getrecursionlimit(...)\n",
      "        getrecursionlimit()\n",
      "        \n",
      "        Return the current value of the recursion limit, the maximum depth\n",
      "        of the Python interpreter stack.  This limit prevents infinite\n",
      "        recursion from causing an overflow of the C stack and crashing Python.\n",
      "    \n",
      "    getrefcount(...)\n",
      "        getrefcount(object) -> integer\n",
      "        \n",
      "        Return the reference count of object.  The count returned is generally\n",
      "        one higher than you might expect, because it includes the (temporary)\n",
      "        reference as an argument to getrefcount().\n",
      "    \n",
      "    getsizeof(...)\n",
      "        getsizeof(object, default) -> int\n",
      "        \n",
      "        Return the size of object in bytes.\n",
      "    \n",
      "    getswitchinterval(...)\n",
      "        getswitchinterval() -> current thread switch interval; see setswitchinterval().\n",
      "    \n",
      "    gettrace(...)\n",
      "        gettrace()\n",
      "        \n",
      "        Return the global debug tracing function set with sys.settrace.\n",
      "        See the debugger chapter in the library manual.\n",
      "    \n",
      "    intern(...)\n",
      "        intern(string) -> string\n",
      "        \n",
      "        ``Intern'' the given string.  This enters the string in the (global)\n",
      "        table of interned strings whose purpose is to speed up dictionary lookups.\n",
      "        Return the string itself or the previously interned string object with the\n",
      "        same value.\n",
      "    \n",
      "    is_finalizing(...)\n",
      "        is_finalizing()\n",
      "        Return True if Python is exiting.\n",
      "    \n",
      "    set_asyncgen_hooks(...)\n",
      "        set_asyncgen_hooks(*, firstiter=None, finalizer=None)\n",
      "        \n",
      "        Set a finalizer for async generators objects.\n",
      "    \n",
      "    set_coroutine_wrapper(...)\n",
      "        set_coroutine_wrapper(wrapper)\n",
      "        \n",
      "        Set a wrapper for coroutine objects.\n",
      "    \n",
      "    setcheckinterval(...)\n",
      "        setcheckinterval(n)\n",
      "        \n",
      "        Tell the Python interpreter to check for asynchronous events every\n",
      "        n instructions.  This also affects how often thread switches occur.\n",
      "    \n",
      "    setdlopenflags(...)\n",
      "        setdlopenflags(n) -> None\n",
      "        \n",
      "        Set the flags used by the interpreter for dlopen calls, such as when the\n",
      "        interpreter loads extension modules.  Among other things, this will enable\n",
      "        a lazy resolving of symbols when importing a module, if called as\n",
      "        sys.setdlopenflags(0).  To share symbols across extension modules, call as\n",
      "        sys.setdlopenflags(os.RTLD_GLOBAL).  Symbolic names for the flag modules\n",
      "        can be found in the os module (RTLD_xxx constants, e.g. os.RTLD_LAZY).\n",
      "    \n",
      "    setprofile(...)\n",
      "        setprofile(function)\n",
      "        \n",
      "        Set the profiling function.  It will be called on each function call\n",
      "        and return.  See the profiler chapter in the library manual.\n",
      "    \n",
      "    setrecursionlimit(...)\n",
      "        setrecursionlimit(n)\n",
      "        \n",
      "        Set the maximum depth of the Python interpreter stack to n.  This\n",
      "        limit prevents infinite recursion from causing an overflow of the C\n",
      "        stack and crashing Python.  The highest possible limit is platform-\n",
      "        dependent.\n",
      "    \n",
      "    setswitchinterval(...)\n",
      "        setswitchinterval(n)\n",
      "        \n",
      "        Set the ideal thread switching delay inside the Python interpreter\n",
      "        The actual frequency of switching threads can be lower if the\n",
      "        interpreter executes long sequences of uninterruptible code\n",
      "        (this is implementation-specific and workload-dependent).\n",
      "        \n",
      "        The parameter must represent the desired switching delay in seconds\n",
      "        A typical value is 0.005 (5 milliseconds).\n",
      "    \n",
      "    settrace(...)\n",
      "        settrace(function)\n",
      "        \n",
      "        Set the global debug tracing function.  It will be called on each\n",
      "        function call.  See the debugger chapter in the library manual.\n",
      "\n",
      "DATA\n",
      "    __stderr__ = <_io.TextIOWrapper name='<stderr>' mode='w' encoding='UTF...\n",
      "    __stdin__ = <_io.TextIOWrapper name='<stdin>' mode='r' encoding='UTF-8...\n",
      "    __stdout__ = <_io.TextIOWrapper name='<stdout>' mode='w' encoding='UTF...\n",
      "    abiflags = 'm'\n",
      "    api_version = 1013\n",
      "    argv = ['/anaconda3/lib/python3.6/site-packages/ipykernel_launcher.py'...\n",
      "    base_exec_prefix = '/anaconda3'\n",
      "    base_prefix = '/anaconda3'\n",
      "    builtin_module_names = ('_ast', '_codecs', '_collections', '_functools...\n",
      "    byteorder = 'little'\n",
      "    copyright = 'Copyright (c) 2001-2018 Python Software Foundati...ematis...\n",
      "    displayhook = <ipykernel.displayhook.ZMQShellDisplayHook object>\n",
      "    dont_write_bytecode = False\n",
      "    exec_prefix = '/anaconda3'\n",
      "    executable = '/anaconda3/bin/python'\n",
      "    flags = sys.flags(debug=0, inspect=0, interactive=0, opt...ing=0, quie...\n",
      "    float_info = sys.float_info(max=1.7976931348623157e+308, max_...epsilo...\n",
      "    float_repr_style = 'short'\n",
      "    hash_info = sys.hash_info(width=64, modulus=2305843009213693...iphash2...\n",
      "    hexversion = 50726384\n",
      "    implementation = namespace(_multiarch='darwin', cache_tag='cpytho...in...\n",
      "    int_info = sys.int_info(bits_per_digit=30, sizeof_digit=4)\n",
      "    maxsize = 9223372036854775807\n",
      "    maxunicode = 1114111\n",
      "    meta_path = [<class '_frozen_importlib.BuiltinImporter'>, <class '_fro...\n",
      "    modules = {'IPython': <module 'IPython' from '/anaconda3/lib/python3.6...\n",
      "    path = ['', '/anaconda3/lib/python36.zip', '/anaconda3/lib/python3.6',...\n",
      "    path_hooks = [<class 'zipimport.zipimporter'>, <function FileFinder.pa...\n",
      "    path_importer_cache = {'/Users/apple/.ipython': FileFinder('/Users/app...\n",
      "    platform = 'darwin'\n",
      "    prefix = '/anaconda3'\n",
      "    ps1 = 'In : '\n",
      "    ps2 = '...: '\n",
      "    ps3 = 'Out: '\n",
      "    stderr = <ipykernel.iostream.OutStream object>\n",
      "    stdin = <_io.TextIOWrapper name='<stdin>' mode='r' encoding='UTF-8'>\n",
      "    stdout = <ipykernel.iostream.OutStream object>\n",
      "    thread_info = sys.thread_info(name='pthread', lock='mutex+cond', versi...\n",
      "    version = '3.6.5 |Anaconda, Inc.| (default, Apr 26 2018, 08... Compati...\n",
      "    version_info = sys.version_info(major=3, minor=6, micro=5, releaseleve...\n",
      "    warnoptions = []\n",
      "\n",
      "FILE\n",
      "    (built-in)\n",
      "\n",
      "\n"
     ]
    },
    {
     "data": {
      "text/plain": [
       "['',\n",
       " '/anaconda3/lib/python36.zip',\n",
       " '/anaconda3/lib/python3.6',\n",
       " '/anaconda3/lib/python3.6/lib-dynload',\n",
       " '/anaconda3/lib/python3.6/site-packages',\n",
       " '/anaconda3/lib/python3.6/site-packages/aeosa',\n",
       " '/anaconda3/lib/python3.6/site-packages/Django-1.11.16-py3.6.egg',\n",
       " '/anaconda3/lib/python3.6/site-packages/IPython/extensions',\n",
       " '/Users/apple/.ipython']"
      ]
     },
     "execution_count": 2,
     "metadata": {},
     "output_type": "execute_result"
    }
   ],
   "source": [
    "import sys\n",
    "\n",
    "help(sys)\n",
    "sys.path"
   ]
  },
  {
   "cell_type": "markdown",
   "metadata": {},
   "source": [
    "\n",
    "\n",
    "## 内置函数\n",
    "- 查看文档：\n",
    "英文：http://docs.python.org/3/library/functions.html#abs\n",
    "中文：https://yiyibooks.cn/xx/python_352/library/functions.html\n",
    "- help可以查看函数用法\n",
    "\n",
    "## 自定义函数\n",
    "- 定义一个函数要使用def语句，依次写出函数名、括号、括号中的参数和冒号:，然后，在缩进块中编写函数体，函数的返回值用return语句返回\n",
    "\n",
    "#### 规则\n",
    "- 1.函数的定义必须使用def关键字\n",
    "    - 关键字后面有空格，且函数名后():不能省略，括号内可以有参数\n",
    "    - 函数内所有代码缩进\n",
    "    - 需要先定义，再使用\n",
    "    - 只定义不会被执行\n",
    "- 2.函数的命名规则\n",
    "    - 1.不允许使用中文，推荐使用英文\n",
    "    - 2.可以使用数字，但是不能以数字开头\n",
    "    - 3.不可以使用特殊符号， _除外\n",
    "    - 4.函数名严格区分大小写\n",
    "    - 5.函数命名要避免使用保留关键字\n",
    "    - 6.函数命名要有意义，起名需要遵循便令命名规则，约定俗成，大驼峰命名只给类用"
   ]
  },
  {
   "cell_type": "code",
   "execution_count": 5,
   "metadata": {},
   "outputs": [
    {
     "name": "stdout",
     "output_type": "stream",
     "text": [
      "定义时不会执行\n"
     ]
    }
   ],
   "source": [
    "def funName():\n",
    "    print('hello')\n",
    "    \n",
    "print(\"定义时不会执行\")"
   ]
  },
  {
   "cell_type": "markdown",
   "metadata": {},
   "source": [
    "### 函数调用\n",
    "- 直接函数名后面跟括号\n"
   ]
  },
  {
   "cell_type": "code",
   "execution_count": 6,
   "metadata": {},
   "outputs": [
    {
     "name": "stdout",
     "output_type": "stream",
     "text": [
      "hello\n"
     ]
    }
   ],
   "source": [
    "fun_name()"
   ]
  },
  {
   "cell_type": "markdown",
   "metadata": {},
   "source": [
    "### 具有参数的函数结构\n",
    "- 实参传递值给形参的过程，本质上就是普通的变量赋值\n",
    "- 函数的参数\n",
    "    - 参数： 负责给函数传递一些必要的数据或者信息\n",
    "        - 形参（形式参数）： 在函数定义的时候用到的参数没有具体值，只是一个占位的符号，成为形参\n",
    "        - 实参（实际参数）： 在调用函数的时候输入的值\n",
    "- 格式\n",
    "\n",
    "def 函数名(形参名 = 默认值,形参名 = 默认值...):\n",
    "    函数中的代码（python语句）\n",
    "    函数中的代码（python语句）\n",
    "    ..\n",
    "\n",
    "调用函数1：\n",
    "    函数名()\n",
    "\n",
    "调用函数2:\n",
    "    函数名(实参,实参...)\n",
    "    \n",
    "- 具有默认值的函数，调用时如果不提供实参，则会使用形参的默认值执行，如果提供了实参，则使用实参而忽略默认值"
   ]
  },
  {
   "cell_type": "code",
   "execution_count": 8,
   "metadata": {},
   "outputs": [
    {
     "name": "stdout",
     "output_type": "stream",
     "text": [
      "hello jack\n"
     ]
    }
   ],
   "source": [
    "def hello(name):\n",
    "    print(\"hello\",name)\n",
    "\n",
    "hello('jack')"
   ]
  },
  {
   "cell_type": "markdown",
   "metadata": {},
   "source": [
    "\n",
    "### return语句的基本使用\n",
    "    \n",
    "- 1.如果函数执行完毕需要的到一个结果作为反馈，需要添加return语句\n",
    "- 2.return语句可以为当前函数返回一个结果\n",
    "- 3.一旦程序运行了return语句，那么函数结构机会结束。\n",
    "- 4.return一般只能返回一个值，如果需要返回多个数据则是一个tuple\n",
    "- 5.如果没有return，默认返回一个None\n",
    "    "
   ]
  },
  {
   "cell_type": "code",
   "execution_count": 11,
   "metadata": {},
   "outputs": [
    {
     "data": {
      "text/plain": [
       "('jack', 'mark')"
      ]
     },
     "execution_count": 11,
     "metadata": {},
     "output_type": "execute_result"
    }
   ],
   "source": [
    "def hello(name,name2):\n",
    "    return name,name2\n",
    "\n",
    "hello('jack','mark')"
   ]
  },
  {
   "cell_type": "code",
   "execution_count": 22,
   "metadata": {},
   "outputs": [
    {
     "name": "stdout",
     "output_type": "stream",
     "text": [
      "(12, -6)\n"
     ]
    }
   ],
   "source": [
    "# 函数多个返回值\n",
    "def hello(a,b):\n",
    "    return a+b,a-b\n",
    "  \n",
    "rst = hello(3,9)\n",
    "\n",
    "print(rst)"
   ]
  },
  {
   "cell_type": "markdown",
   "metadata": {},
   "source": [
    "### 参数分类\n",
    "- 普通参数\n",
    "- 默认参数\n",
    "- 关键字参数\n",
    "- 收集参数\n",
    "\n",
    "- 普通参数\n",
    "    - 定义的时候直接定义变量名\n",
    "    - 调用的时候直接把变量或者值放入指定位置\n",
    "            \n",
    "            def 函数名（参数1， 参数2，....):\n",
    "                函数体\n",
    "\n",
    "            # 调用\n",
    "            函数名（value1, value2,.......)\n",
    "\n",
    "            # 调用的时候，具体值参考的是位置，按位置赋值"
   ]
  },
  {
   "cell_type": "code",
   "execution_count": null,
   "metadata": {},
   "outputs": [],
   "source": [
    "#计算x的n次方\n",
    "def fun(x,n):\n",
    "    "
   ]
  },
  {
   "cell_type": "markdown",
   "metadata": {},
   "source": [
    "- 默认参数\n",
    "    - 形参带有默认值\n",
    "    - 调用的时候，如果没有对相应形参赋值，则使用默认值\n",
    "      \n",
    "      def  func_name(p1=v1, p2=v2..........):\n",
    "          func_block\n",
    "\n",
    "      #调用1\n",
    "      func_name()\n",
    "\n",
    "      #调用2\n",
    "      value1= 100\n",
    "      value2=200\n",
    "      func_name(value1,value2)\n",
    "      \n",
    "- 定义默认参数要牢记一点：默认参数必须指向不变对象！\n"
   ]
  },
  {
   "cell_type": "code",
   "execution_count": null,
   "metadata": {},
   "outputs": [],
   "source": []
  },
  {
   "cell_type": "markdown",
   "metadata": {},
   "source": [
    "- 关键字参数\n",
    "\n",
    "        语法\n",
    "          def func(p1=v1, p2=v2.....):\n",
    "              func_body\n",
    "\n",
    "        调用函数：\n",
    "          func(p1=value1, p2=value2.......)\n",
    "    - 好处：\n",
    "        - 不容易混淆， 一般实参和形参只是按照位置一一对应即可，容易出错\n",
    "        - 使用关键字参数，可以不考虑参数位置"
   ]
  },
  {
   "cell_type": "code",
   "execution_count": null,
   "metadata": {},
   "outputs": [],
   "source": []
  },
  {
   "cell_type": "markdown",
   "metadata": {},
   "source": [
    "\n",
    "- 1.收集参数1   (专用于收集非关键字参数)\n",
    "    - 把没有位置，不能和定义时的参数位置相对应的参数，放入一个特定的数据结构中\n",
    "    - 语法：\n",
    "def 函数名(*形参名)：\n",
    "    函数中的代码（python语句）\n",
    "    函数中的代码（python语句）\n",
    "    ...\n",
    "\n",
    "调用函数： 函数名(实参,实参....)\n",
    "\n",
    "**注意**：\n",
    "1.使用收集参数进行形参的书写，需要在形参名之前添加*\n",
    "2.*形参格式的收集参数会收集到调用函数时传入的所有没有关键字的形参\n",
    "3.收集参数收集到的最终数据是由所有非关键字实参组成的元组。\n",
    "4.收集参数和普通的参数（关键字参数）可以共存\n",
    "\n",
    "\n",
    "- 2.收集参数2 (专门用于收集关键字参数)\n",
    "\n",
    "def 函数名(**kwargs):\n",
    "    函数中的代码（python语句）\n",
    "    函数中的代码（python语句）\n",
    "    ...\n",
    "\n",
    "调用函数：函数名(形参名 = 值,形参名=值...)\n",
    "\n",
    "**注意**\n",
    "1.使用收集参数收集关键字实参的方法需要在形参名之前加**\n",
    "2.**形参格式会收集调用函数时传入函数的所有关键字参数\n",
    "3.收集的所有关键字参数最终组成的数据为字典类型\n",
    "4.关键字参数收集的方式可以和普通形参共存，但是必须在最后"
   ]
  },
  {
   "cell_type": "code",
   "execution_count": 44,
   "metadata": {},
   "outputs": [
    {
     "data": {
      "text/plain": [
       "21"
      ]
     },
     "execution_count": 44,
     "metadata": {},
     "output_type": "execute_result"
    }
   ],
   "source": [
    "# 收集参数代码\n",
    "def add(*num):\n",
    "    s = 0\n",
    "    for n in num:\n",
    "        s = s + n\n",
    "    return s\n",
    "\n",
    "add(1,2,3,4,5,6)"
   ]
  },
  {
   "cell_type": "code",
   "execution_count": 66,
   "metadata": {},
   "outputs": [
    {
     "name": "stdout",
     "output_type": "stream",
     "text": [
      "zhejiang\n",
      "name: shen ages: 20\n"
     ]
    }
   ],
   "source": [
    "# 收集非关键字参数\n",
    "def person(name,age=30,**args):\n",
    "    if 'address' in args:\n",
    "        print(args['address'])\n",
    "        pass\n",
    "    print(\"name:\",name,'ages:',age)\n",
    "\n",
    "person('shen',20,address=\"zhejiang\")"
   ]
  },
  {
   "cell_type": "markdown",
   "metadata": {},
   "source": [
    "### 在 python 中，strings, tuples, 和 numbers 是不可更改的对象，而 list,dict 等则是可以修改的对象。\n",
    "\n",
    "- 不可变类型：变量赋值 a=5 后再赋值 a=10，这里实际是新生成一个 int 值对象 10，再让 a 指向它，而 5 被丢弃，不是改变a的值，相当于新生成了a。\n",
    "- 可变类型：变量赋值 la=[1,2,3,4] 后再赋值 la[2]=5 则是将 list la 的第三个元素值更改，本身la没有动，只是其内部的一部分值被修改了。\n",
    "\n",
    "- python 函数的参数传递：\n",
    "    - 不可变类型：类似 c++ 的值传递，如 整数、字符串、元组。如fun（a），传递的只是a的值，没有影响a对象本身。比如在 fun（a）内部修改 a 的值，只是修改另一个复制的对象，不会影响 a 本身。\n",
    "    - 可变类型：类似 c++ 的引用传递，如 列表，字典。如 fun（la），则是将 la 真正的传过去，修改后fun外部的la也会受影响"
   ]
  },
  {
   "cell_type": "code",
   "execution_count": 13,
   "metadata": {},
   "outputs": [
    {
     "name": "stdout",
     "output_type": "stream",
     "text": [
      "[1, 2, 3, 4, 5, 6]\n",
      "[1, 2, 300, 4, 5, 6]\n",
      "[1, 2, 300, 4, 5, 6]\n",
      "9\n",
      "109\n",
      "9\n"
     ]
    }
   ],
   "source": [
    "# 传值和传地址的区别\n",
    "# 对于简单的数值，采用传值操作，即在函数内对参数的操作不影响外面的变量\n",
    "# 对于复杂变量，采用传地址操作，此时函数内的参数和外部变量是同一份内容，\n",
    "# 任何地方对此内容的更改都影响另外的变量或参数的使用\n",
    "\n",
    "def a(n):\n",
    "    n[2] = 300\n",
    "    print(n)\n",
    "    return None\n",
    "\n",
    "def b(n):\n",
    "    n += 100\n",
    "    print(n)\n",
    "    return None\n",
    "\n",
    "\n",
    "an = [1,2,3,4,5,6]\n",
    "bn = 9\n",
    "\n",
    "print(an)\n",
    "a(an)\n",
    "print(an)\n",
    "\n",
    "print(bn)\n",
    "b(bn)\n",
    "print(bn)"
   ]
  },
  {
   "cell_type": "markdown",
   "metadata": {},
   "source": [
    "## 作用域\n",
    "一个程序的所有的变量并不是在哪个位置都可以访问的。访问权限决定于这个变量是在哪里赋值的。\n",
    "变量的作用域决定了在哪一部分程序你可以访问哪个特定的变量名称。两种最基本的变量作用域如下：\n",
    "- 全局变量\n",
    "- 局部变量"
   ]
  },
  {
   "cell_type": "code",
   "execution_count": null,
   "metadata": {},
   "outputs": [],
   "source": []
  },
  {
   "cell_type": "code",
   "execution_count": null,
   "metadata": {},
   "outputs": [],
   "source": []
  },
  {
   "cell_type": "code",
   "execution_count": null,
   "metadata": {},
   "outputs": [],
   "source": []
  },
  {
   "cell_type": "code",
   "execution_count": null,
   "metadata": {},
   "outputs": [],
   "source": []
  },
  {
   "cell_type": "markdown",
   "metadata": {},
   "source": [
    "## 函数文档\n",
    "\n",
    "函数文档的作用是对当前函数提供使用相关的参考信息。\n",
    "- 查看函数文档：\n",
    "    - 1.使用help(函数名)，可以查看函数文档信息，查看信息时信息会换行\n",
    "\n",
    "    - 2.使用函数名.__doc__的方式查看，查看信息时信息不会换行，会显示\\n\n",
    "\n",
    "自定义函数文档：\n",
    "在函数内部开始的第一行使用字符串定义文字内容即可\n",
    "\n",
    "def 函数名()：\n",
    "\n",
    "    '此处书写函数文档信息，单引号中使用\\n换行'\n",
    "\n",
    "    函数中的其他代码...\n",
    "    函数中的其他代码...\n",
    "\n",
    "或者\n",
    "\n",
    "def 函数名():\n",
    "\n",
    "    '''\n",
    "    此处书写函数文档信息\n",
    "    此处书写函数文档信息\n",
    "    ...\n",
    "\n",
    "    函数中的其他代码...\n",
    "    函数中的其他代码..."
   ]
  },
  {
   "cell_type": "code",
   "execution_count": 71,
   "metadata": {},
   "outputs": [
    {
     "data": {
      "text/plain": [
       "'注释'"
      ]
     },
     "execution_count": 71,
     "metadata": {},
     "output_type": "execute_result"
    }
   ],
   "source": [
    "\n",
    "def stu(name, age, *args):\n",
    "    '注释'\n",
    "    '''\n",
    "    这是函数文档\n",
    "    '''\n",
    "    print(\"输出函数stu\")\n",
    "    '注释'\n",
    "# 查看函数文档\n",
    "#help(stu)\n",
    "stu.__doc__"
   ]
  },
  {
   "cell_type": "code",
   "execution_count": null,
   "metadata": {},
   "outputs": [],
   "source": []
  },
  {
   "cell_type": "markdown",
   "metadata": {},
   "source": [
    "\n"
   ]
  }
 ],
 "metadata": {
  "kernelspec": {
   "display_name": "Python 3",
   "language": "python",
   "name": "python3"
  },
  "language_info": {
   "codemirror_mode": {
    "name": "ipython",
    "version": 3
   },
   "file_extension": ".py",
   "mimetype": "text/x-python",
   "name": "python",
   "nbconvert_exporter": "python",
   "pygments_lexer": "ipython3",
   "version": "3.6.5"
  }
 },
 "nbformat": 4,
 "nbformat_minor": 2
}
