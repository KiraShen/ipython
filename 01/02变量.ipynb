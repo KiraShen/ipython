{
 "cells": [
  {
   "cell_type": "markdown",
   "metadata": {},
   "source": [
    "# python基础\n",
    "\n",
    "## 注释\n",
    "- 行注释：#\n",
    "- 多行注释：''' or \"\"\""
   ]
  },
  {
   "cell_type": "code",
   "execution_count": 3,
   "metadata": {},
   "outputs": [
    {
     "name": "stdout",
     "output_type": "stream",
     "text": [
      "hello\n"
     ]
    }
   ],
   "source": [
    "print('hello') #输出hello"
   ]
  },
  {
   "cell_type": "markdown",
   "metadata": {},
   "source": [
    "## 变量\n",
    "### 命名规则\n",
    "- 字母、数字、下划线，数字不能打头\n",
    "- 一般在python中，下划线打头的内容有特殊意义，一般不建议使用\n",
    "    - eg：_name,_count 理论可以但不建议使用\n",
    "- 大小写敏感\n",
    "- 建议：\n",
    "    - 以固定单词或者单词缩写命名变量\n",
    "    - posix规则：每个单词均小写，并以下划线连接，Linux常见，eg：first_name\n",
    "    - 驼峰命名法：\n",
    "        - 大驼峰，单词连接，首字母均大写，常用于类的定义，eg：FirstName\n",
    "        - 小驼峰，单词连接，除第一个单词外，其他首字母均大写，常用于变量和函数定义，eg：firstName\n",
    "- 避开保留字&关键字，eg：class，if，break"
   ]
  },
  {
   "cell_type": "code",
   "execution_count": 4,
   "metadata": {},
   "outputs": [
    {
     "name": "stdout",
     "output_type": "stream",
     "text": [
      "['False', 'None', 'True', 'and', 'as', 'assert', 'break', 'class', 'continue', 'def', 'del', 'elif', 'else', 'except', 'finally', 'for', 'from', 'global', 'if', 'import', 'in', 'is', 'lambda', 'nonlocal', 'not', 'or', 'pass', 'raise', 'return', 'try', 'while', 'with', 'yield']\n"
     ]
    }
   ],
   "source": [
    "#打印关键字\n",
    "import keyword #引入关键字模块\n",
    "print(keyword.kwlist)"
   ]
  },
  {
   "cell_type": "markdown",
   "metadata": {},
   "source": [
    "### 变量申明\n",
    "- var_name = var_value\n",
    "- var_name1 = var_name2 = var_name3 = var_value\n",
    "- var_name4,var_name5,var_name6 = var_value4, var_value5,var_value6"
   ]
  },
  {
   "cell_type": "code",
   "execution_count": 9,
   "metadata": {},
   "outputs": [
    {
     "name": "stdout",
     "output_type": "stream",
     "text": [
      "2018\n",
      "1998\n",
      "1998\n",
      "1998\n",
      "2011\n",
      "2012\n",
      "2013\n"
     ]
    }
   ],
   "source": [
    "year = 2018\n",
    "print(year)\n",
    "\n",
    "year1 = year2 = year3 = 1998\n",
    "print(year1)\n",
    "print(year2)\n",
    "print(year3)\n",
    "\n",
    "year4,year5,year6 = 2011,2012,2013\n",
    "print(year4)\n",
    "print(year5)\n",
    "print(year6)\n"
   ]
  },
  {
   "cell_type": "markdown",
   "metadata": {},
   "source": [
    "### 变量类型\n",
    "- 狭义上说，python不分变量类型，因为面向对象，所以全是对象\n",
    "- 标准数据类型：\n",
    "    - 数字类型：Number\n",
    "    - 字符串类型：String\n",
    "    - None\n",
    "    - 列表：List\n",
    "    - 元组：Tuple\n",
    "    - 字典：Dictionary\n",
    "    - 集合：Set"
   ]
  },
  {
   "cell_type": "markdown",
   "metadata": {},
   "source": [
    "#### Number\n",
    "- 整型\n",
    "    - 正 0 负\n",
    "    - 二进制：0b\n",
    "    - 八进制：0o\n",
    "    - 十进制：\n",
    "    - 十六进制：0x"
   ]
  },
  {
   "cell_type": "code",
   "execution_count": 11,
   "metadata": {},
   "outputs": [
    {
     "name": "stdout",
     "output_type": "stream",
     "text": [
      "13\n",
      "15\n",
      "29\n",
      "31\n"
     ]
    }
   ],
   "source": [
    "num1,num2,num3,num4 = 0b1101,0o17,29,0x1f\n",
    "print(num1)\n",
    "print(num2)\n",
    "print(num3)\n",
    "print(num4)"
   ]
  },
  {
   "cell_type": "markdown",
   "metadata": {},
   "source": [
    "- 浮点数\n",
    "    - 省略着写：3.    .99\n",
    "    - 科学计数法：和数学定义的一致，e/E后跟上10的指数"
   ]
  },
  {
   "cell_type": "code",
   "execution_count": 13,
   "metadata": {},
   "outputs": [
    {
     "name": "stdout",
     "output_type": "stream",
     "text": [
      "0.9\n",
      "-0.002\n"
     ]
    }
   ],
   "source": [
    "print(.9)\n",
    "print(-0.2E-2)"
   ]
  },
  {
   "cell_type": "markdown",
   "metadata": {},
   "source": [
    "- 复数\n",
    "    - 和数学一致，虚数用j/J表示"
   ]
  },
  {
   "cell_type": "code",
   "execution_count": 14,
   "metadata": {},
   "outputs": [
    {
     "name": "stdout",
     "output_type": "stream",
     "text": [
      "(1+2j)\n"
     ]
    }
   ],
   "source": [
    "print(1+2j)"
   ]
  },
  {
   "cell_type": "markdown",
   "metadata": {},
   "source": [
    "- 布尔类型\n",
    "    - True/False\n",
    "    - 布尔可以和数字直接操作"
   ]
  },
  {
   "cell_type": "code",
   "execution_count": 16,
   "metadata": {},
   "outputs": [
    {
     "name": "stdout",
     "output_type": "stream",
     "text": [
      "1.9\n",
      "1.1\n"
     ]
    }
   ],
   "source": [
    "print(1.9+False) #False相当于0\n",
    "print(2.1-True) #True相当于1"
   ]
  },
  {
   "cell_type": "markdown",
   "metadata": {},
   "source": [
    "#### String\n",
    "- 字符串\n",
    "    - 单引号、双引号\n",
    "    - 三个单引号：可以多行\n",
    "    - 转义字符 \\ eg：换行\\n 回车\\r\n",
    "    - 单引号、双引号混用"
   ]
  },
  {
   "cell_type": "code",
   "execution_count": 29,
   "metadata": {},
   "outputs": [
    {
     "name": "stdout",
     "output_type": "stream",
     "text": [
      "i'm \"apple\"\n",
      "asdadad\n",
      "adawd\n",
      "\n",
      "\n",
      "\"hello\",he said\n"
     ]
    }
   ],
   "source": [
    "print('i\\'m \\\"apple\\\"') #转义字符\n",
    "print('''asdadad\n",
    "adawd''') #三引号\n",
    "print(\"\\n\")\n",
    "print('\"hello\",he said')#单引号、双引号混用"
   ]
  },
  {
   "cell_type": "markdown",
   "metadata": {},
   "source": [
    "- 字符串的格式化\n",
    "    - %,占位符\n",
    "        - %d：此处为整数\n",
    "        - %s：此处为字符串\n",
    "        - %f：此处为浮点型\n",
    "    - format函数\n",
    "        - 使用{}和来代替%，在后面加上format函数"
   ]
  },
  {
   "cell_type": "code",
   "execution_count": 41,
   "metadata": {},
   "outputs": [
    {
     "name": "stdout",
     "output_type": "stream",
     "text": [
      "my name is shen,i'm 20 years old\n",
      "my name is shen,i'm 20 years old,100.100000 kg\n",
      "i'm 10 years old,my name is shen,i'm 10 kg\n"
     ]
    }
   ],
   "source": [
    "str = \"my name is %s,i'm 20 years old\"\n",
    "print(str%\"shen\")\n",
    "\n",
    "buf = \"my name is %s,i'm %d years old,%f kg\"\n",
    "print(buf%('shen',20,100.1))\n",
    "\n",
    "s = \"i'm {0} years old,my name is {1},i'm {0} kg\".format(10,\"shen\")\n",
    "print(s)"
   ]
  },
  {
   "cell_type": "markdown",
   "metadata": {},
   "source": [
    "#### None\n",
    "- 什么都没有\n",
    "    - 函数返回值，return None\n",
    "    - 占位符"
   ]
  },
  {
   "cell_type": "markdown",
   "metadata": {},
   "source": [
    "## 字符串操作-关于字符串内置函数\n",
    "\n",
    "- 链接操作\n",
    "    - +"
   ]
  },
  {
   "cell_type": "code",
   "execution_count": 44,
   "metadata": {},
   "outputs": [
    {
     "name": "stdout",
     "output_type": "stream",
     "text": [
      "i lovechina\n",
      "i love china\n",
      "i loveUSA\n"
     ]
    }
   ],
   "source": [
    "a = \"i love\"\n",
    "b = \"china\"\n",
    "print (a + b)\n",
    "print (a + ' ' + b)\n",
    "print (a + 'USA')"
   ]
  },
  {
   "cell_type": "markdown",
   "metadata": {},
   "source": [
    "- 字符串乘法\n",
    "    - 重复"
   ]
  },
  {
   "cell_type": "code",
   "execution_count": 47,
   "metadata": {},
   "outputs": [
    {
     "name": "stdout",
     "output_type": "stream",
     "text": [
      "hahahahahahahahaha hahahahahaha\n"
     ]
    }
   ],
   "source": [
    "a = 'hahaha'\n",
    "print(a*3+ ' '+a*2)"
   ]
  },
  {
   "cell_type": "markdown",
   "metadata": {},
   "source": [
    "- 取字符串\n"
   ]
  },
  {
   "cell_type": "code",
   "execution_count": 71,
   "metadata": {},
   "outputs": [
    {
     "name": "stdout",
     "output_type": "stream",
     "text": [
      "0\n",
      "嘿\n",
      " 1234567890嘿哈\n",
      "12\n",
      " 1234567890嘿哈\n"
     ]
    }
   ],
   "source": [
    "a = \" 1234567890嘿哈\"\n",
    "print(a[10])\n",
    "print(a[-2])\n",
    "print(a[:])\n",
    "print(a[1:3])\n",
    "b = a[:]\n",
    "b = b + 'aa'\n",
    "print(a)"
   ]
  },
  {
   "cell_type": "code",
   "execution_count": 70,
   "metadata": {},
   "outputs": [
    {
     "name": "stdout",
     "output_type": "stream",
     "text": [
      "No Python documentation found for \"my name is %s,i'm 20 years old\".\n",
      "Use help() to get the interactive help utility.\n",
      "Use help(str) for help on the str class.\n",
      "\n"
     ]
    }
   ],
   "source": [
    "help(str)\n"
   ]
  },
  {
   "cell_type": "code",
   "execution_count": 77,
   "metadata": {},
   "outputs": [
    {
     "name": "stdout",
     "output_type": "stream",
     "text": [
      "Hello world 你好世界\n",
      "Hello World 你好世界\n"
     ]
    }
   ],
   "source": [
    "# capitalize() 首字母大写，其余小写，返回字符串\n",
    "s = 'helLo wORld 你好世界'\n",
    "print(s.capitalize())\n",
    "\n",
    "# title() 每个单词首字母大写，返回字符串\n",
    "print(s.title())"
   ]
  },
  {
   "cell_type": "code",
   "execution_count": 78,
   "metadata": {},
   "outputs": [
    {
     "name": "stdout",
     "output_type": "stream",
     "text": [
      "HELLO WORLD 你好世界\n",
      "Hello World 你好世界\n"
     ]
    }
   ],
   "source": [
    "#upper() 将所有字母变成大写字母，返回字符串\n",
    "#lower() 将所有字母变成小写字母，返回字符串\n",
    "print(s.upper())\n",
    "print(s.title())"
   ]
  },
  {
   "cell_type": "code",
   "execution_count": 4,
   "metadata": {},
   "outputs": [
    {
     "name": "stdout",
     "output_type": "stream",
     "text": [
      "16\n",
      "-1\n",
      "2\n",
      "2\n"
     ]
    }
   ],
   "source": [
    "s = 'helLo wORld 你好世界'\n",
    "#len() 计算字符串长度,非内置函数\n",
    "print(len(s))\n",
    "\n",
    "#find 在指定字符中查找指定字符串，找不到返回-1，首次找到返回首次的索引值\n",
    "#help(str.find)\n",
    "print(s.find('l',3,6))\n",
    "\n",
    "#index() 查找指定字符串，找不到报错\n",
    "print(s.index('lL'))\n",
    "\n",
    "#count 计算字符串出现次数，返回整形\n",
    "print(s.count('l'))"
   ]
  },
  {
   "cell_type": "code",
   "execution_count": 8,
   "metadata": {},
   "outputs": [
    {
     "name": "stdout",
     "output_type": "stream",
     "text": [
      "['哈哈哈ndasuhdahda', '不知道', '是什么']\n",
      "asa\n",
      "00\n",
      "buahid\n",
      "啊啊\n"
     ]
    }
   ],
   "source": [
    "#split() 用制定字符串切割字符串，返回字符串组成的列表\n",
    "#join() 讲列表按指定定字符串连接，返回的是字符串\n",
    "a = \"哈哈哈ndasuhdahdana不知道na是什么\"\n",
    "print(a.split('na'))\n",
    "\n",
    "b = ['asa','00','buahid','啊啊']\n",
    "print('\\n'.join(b))"
   ]
  },
  {
   "cell_type": "code",
   "execution_count": 14,
   "metadata": {},
   "outputs": [
    {
     "name": "stdout",
     "output_type": "stream",
     "text": [
      "012aaaaa\n",
      "aa012aaa\n",
      "     012\n"
     ]
    }
   ],
   "source": [
    "#ljust 指定字符串长度，内容靠左边，不足填充指定字符，默认空格，返回字符串\n",
    "#center 指定字符串长度，内容居中，不足填充指定字符，默认空格，返回字符\n",
    "#rjust 指定字符串长度，内容靠右边，不足填充指定字符，默认空格，返回字符\n",
    "sss = \"012\"\n",
    "print(sss.ljust(8,'a'))\n",
    "print(sss.center(8,'a'))\n",
    "print(sss.rjust(8))\n",
    "      "
   ]
  },
  {
   "cell_type": "code",
   "execution_count": 15,
   "metadata": {},
   "outputs": [
    {
     "name": "stdout",
     "output_type": "stream",
     "text": [
      "aavbbb 012vvw\n",
      "vbbb 012vvw\n",
      "aavbbb 012vv\n"
     ]
    }
   ],
   "source": [
    "#strip() 去掉左右两边指定字符，默认为空格，不是指定字符则不操作\n",
    "#lstrip() 去掉左两边指定字符，默认为空格，不是指定字符则不操作\n",
    "#rstrip() 去掉右两边指定字符，默认为空格，不是指定字符则不操作\n",
    "sss = \"aavbbb 012vvw\"\n",
    "print(sss.strip())\n",
    "print(sss.lstrip('a'))\n",
    "print(sss.rstrip('w'))"
   ]
  },
  {
   "cell_type": "markdown",
   "metadata": {},
   "source": [
    "还有很多...想起字符串操作在想起来吧"
   ]
  },
  {
   "cell_type": "code",
   "execution_count": null,
   "metadata": {},
   "outputs": [],
   "source": []
  }
 ],
 "metadata": {
  "kernelspec": {
   "display_name": "Python 3",
   "language": "python",
   "name": "python3"
  },
  "language_info": {
   "codemirror_mode": {
    "name": "ipython",
    "version": 3
   },
   "file_extension": ".py",
   "mimetype": "text/x-python",
   "name": "python",
   "nbconvert_exporter": "python",
   "pygments_lexer": "ipython3",
   "version": "3.6.5"
  }
 },
 "nbformat": 4,
 "nbformat_minor": 2
}
