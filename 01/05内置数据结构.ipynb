{
 "cells": [
  {
   "cell_type": "markdown",
   "metadata": {},
   "source": [
    "### 内置数据结构\n",
    "- list\n",
    "- set\n",
    "- dict\n",
    "- tuple\n",
    "\n",
    "type()是内置函数，打印变量类型\n"
   ]
  },
  {
   "cell_type": "code",
   "execution_count": 12,
   "metadata": {},
   "outputs": [
    {
     "name": "stdout",
     "output_type": "stream",
     "text": [
      "<class 'set'>\n"
     ]
    }
   ],
   "source": [
    "s = str()\n",
    "l = tuple()\n",
    "st = set()\n",
    "d = dict()\n",
    "t = tuple()\n",
    "print(type(st))"
   ]
  },
  {
   "cell_type": "markdown",
   "metadata": {},
   "source": [
    "#### 申明\n",
    "- 创建空列表\n",
    "- 创建带值的列表\n",
    "- 创建列表，带多个值\n",
    "- 使用list()"
   ]
  },
  {
   "cell_type": "code",
   "execution_count": 11,
   "metadata": {},
   "outputs": [
    {
     "name": "stdout",
     "output_type": "stream",
     "text": [
      "[]\n",
      "[100]\n",
      "[2, 3, 1, 4, 6, 4, 6]\n",
      "[]\n"
     ]
    }
   ],
   "source": [
    "# 1, 创建空列表\n",
    "l1 = []\n",
    "print(l1)\n",
    "\n",
    "# 2. 创建带值的列表\n",
    "l2 = [100]\n",
    "print(l2)\n",
    "\n",
    "# 3. 创建列表，带多个值\n",
    "l3 = [2,3,1,4,6,4,6]\n",
    "print(l3)\n",
    "\n",
    "# 4. 使用list()\n",
    "l4 = list()\n",
    "print(l4)"
   ]
  },
  {
   "cell_type": "markdown",
   "metadata": {},
   "source": [
    "#### list常用操作\n",
    "- 访问\n",
    "    - 使用下标操作（索引）\n",
    "    - 列表的位置是从0开始\n",
    "    - 为负数，表明顺序是从右往左\n",
    "    - 数组最后一个数字的下标是-1\n",
    "- 分片操作\n",
    "    - 对列表进行任意一段的截取\n",
    "    - 注意截取的范围，包含左边的下标值，不包含右边的下标值，跟str相似\n",
    "    - 下标值可以为空，如果不写，左边下标值默认为0，右边下标值为最大数加一，即表示截取到最后一个数据\n",
    "    - 越界，自动忽略  \n",
    "    - *分片可以控制增幅，\n",
    "        - 默认增长幅度为1\n",
    "        - 否则再多写一值 l[1:6:2])\n",
    "    - *分片之负数下标\n",
    "        - 因为默认分片总是从左向右截取，分片左边的值一定小于右边的值,否则为空\n",
    "        - 如果分片一定左边值比右边大，则步长参数需要使用负数\n",
    "\n"
   ]
  },
  {
   "cell_type": "code",
   "execution_count": 21,
   "metadata": {},
   "outputs": [
    {
     "name": "stdout",
     "output_type": "stream",
     "text": [
      "[2]\n",
      "[2, 4, 3]\n",
      "[3, 2, 1, 4, 6, 3, 2]\n",
      "[]\n",
      "[4, 6]\n",
      "[3, 6]\n"
     ]
    }
   ],
   "source": [
    "# 下标访问列表\n",
    "l = [3,2,1,4,6,3,2]\n",
    "\n",
    "print(l[6:100])\n",
    "print(l[1:6:2])\n",
    "\n",
    "# 分片之负数下标\n",
    "print(l)\n",
    "print(l[-2:-4])\n",
    "print(l[-4:-2])\n",
    "print(l[-2:-4:-1])"
   ]
  },
  {
   "cell_type": "markdown",
   "metadata": {},
   "source": [
    "#### 分片操作是生成一个新的list\n",
    "- 内置函数id，负责显示一个变量或者数据的唯一确定编号\n",
    "    - is / not is 和 == 区别就是前者是id一致、后者是值相等\n",
    "- 如果两个id值一样，则表明分片产生的列表是使用的同一地址同一份数据\n",
    "- 否则，则表明分片是从新生成了一份数据，即一个新的列表，然后把数值拷贝到新列表中\n",
    "- id一致的list，修改其中一份数据，另一份数据也会相应发生变化"
   ]
  },
  {
   "cell_type": "code",
   "execution_count": 39,
   "metadata": {},
   "outputs": [
    {
     "name": "stdout",
     "output_type": "stream",
     "text": [
      "4541267016\n",
      "4541267016\n",
      "True\n",
      "4541267016\n",
      "4541267016\n",
      "[22, 1]\n",
      "[22, 1]\n"
     ]
    }
   ],
   "source": [
    "l = [12,22,33,44]\n",
    "l1 = l[1:3]\n",
    "l2 = l1\n",
    "print(id(l1))\n",
    "print(id(l2))\n",
    "print(l1 is l2)\n",
    "l1[1] = 1\n",
    "\n",
    "print(id(l1))\n",
    "print(id(l2))\n",
    "print(l1)\n",
    "print(l2)"
   ]
  },
  {
   "cell_type": "markdown",
   "metadata": {},
   "source": [
    "#### list删除\n",
    "- 如果使用del之后，id的值和删除前不一样，则说明删除生成了一个新的list?\n",
    "- del一个变量后不能在继续使用此变量"
   ]
  },
  {
   "cell_type": "code",
   "execution_count": 37,
   "metadata": {},
   "outputs": [
    {
     "name": "stdout",
     "output_type": "stream",
     "text": [
      "4541913352\n",
      "[1, 2, 3]\n",
      "4541913352\n"
     ]
    }
   ],
   "source": [
    "a = list([1,2,3,4])\n",
    "print(id(a))\n",
    "del(a[3])\n",
    "print(a)\n",
    "print(id(a))"
   ]
  },
  {
   "cell_type": "markdown",
   "metadata": {},
   "source": [
    "#### list运算\n",
    "- +链接两个list\n",
    "- *用于list和整数相乘\n",
    "- 成员运算\n",
    "    - in / not in 判断一个元素是否在爱list里边\n",
    "\n"
   ]
  },
  {
   "cell_type": "code",
   "execution_count": 42,
   "metadata": {},
   "outputs": [
    {
     "name": "stdout",
     "output_type": "stream",
     "text": [
      "[1, 2, 3, 2, 3, 4]\n",
      "[1, 2, 3, 1, 2, 3]\n"
     ]
    }
   ],
   "source": [
    "a = [1,2,3]\n",
    "b = [2,3,4]\n",
    "print(a+b)\n",
    "print(a*2)"
   ]
  },
  {
   "cell_type": "markdown",
   "metadata": {},
   "source": [
    "#### list常用函数"
   ]
  },
  {
   "cell_type": "code",
   "execution_count": 57,
   "metadata": {},
   "outputs": [
    {
     "name": "stdout",
     "output_type": "stream",
     "text": [
      "12\n",
      "5\n",
      "9\n",
      "r\n",
      "1\n",
      "a\n",
      "['a', 'f', 'r', 'f', 'r']\n"
     ]
    }
   ],
   "source": [
    "s = \"afrfr\"\n",
    "l = [9,2,3,1,4,4,1,1,1,2,3,4]\n",
    "#len:求长度\n",
    "print(len(l))\n",
    "print(len(s))\n",
    "#max:求最大\n",
    "print(max(l))\n",
    "print(max(s))\n",
    "#min:求最小\n",
    "print(min(l))\n",
    "print(min(s))\n",
    "\n",
    "#list:把其他格式转换为list\n",
    "print(list(s))"
   ]
  },
  {
   "cell_type": "markdown",
   "metadata": {},
   "source": [
    "#### list内置函数\n",
    "- help(list)"
   ]
  },
  {
   "cell_type": "code",
   "execution_count": 5,
   "metadata": {},
   "outputs": [
    {
     "name": "stdout",
     "output_type": "stream",
     "text": [
      "['a', '5', 'my', 'dw', 69, 766, (5+4j)]\n"
     ]
    }
   ],
   "source": [
    "# python没有数组，因为数组的数据结构统一，但是list可以不统一\n",
    "l = ['a','5',\"my\",'dw', 0x45, 766, 5+4j]\n",
    "print(l)"
   ]
  },
  {
   "cell_type": "code",
   "execution_count": 16,
   "metadata": {},
   "outputs": [
    {
     "name": "stdout",
     "output_type": "stream",
     "text": [
      "['a', '5', 'my', 'dw', 69, 766, (5+4j), 9]\n",
      "['a', '5', 'my', 'dw', 69, 766, (5+4j), 9, '2w']\n",
      "['a', '5', 'my', 112, 'dw', 69, 766, (5+4j), 9, '2w']\n",
      "2\n",
      "2 3 5\n",
      "my\n",
      "['a', '5', 112, 'dw', 69, 766, (5+4j), 9, '2w']\n",
      "[1, 1, 2, 3, 4, 7, 8]\n",
      "['a', '5', 112, 'dw', 69, 766, (5+4j), 9, '2w']\n",
      "4395180360\n",
      "4395180360\n",
      "4392324424\n"
     ]
    }
   ],
   "source": [
    "l = ['a','5',\"my\",'dw', 0x45, 766, 5+4j]\n",
    "# append 在末尾插入内容\n",
    "l.append(9)\n",
    "print(l)\n",
    "l.append('2w')\n",
    "print(l)\n",
    "\n",
    "# insert 指定位置插入内容\n",
    "l.insert(3,112)\n",
    "print(l)\n",
    "\n",
    "# index 获取值在list当中的索引\n",
    "print(l.index('my'))\n",
    "print(l.index('my'),3,5)\n",
    "\n",
    "# pop 取出指定的一个元素,取出后改元素不在list\n",
    "n = l.pop(2)\n",
    "print(n)\n",
    "print(l)\n",
    "\n",
    "c = [1,2,7,4,1,3,8]\n",
    "# sort排序\n",
    "c.sort()\n",
    "print(c)\n",
    "\n",
    "#remove 删除某个元素\n",
    "x = 'my'\n",
    "if x in l:\n",
    "    l.remove(x)\n",
    "print(l)\n",
    "# 如果被删除的值没在list中，则报错\n",
    "# 所以删除list指定值的操作应该先行进行判断\n",
    "\n",
    "# clear 清空list\n",
    "print(id(l))\n",
    "l.clear()\n",
    "print(id(l))\n",
    "l = []\n",
    "print(id(l))\n",
    "\n",
    "# 如果不需要列表地址保持不变，则清空列表可以使用以下方式\n",
    "# a = list()\n",
    "# a = []"
   ]
  },
  {
   "cell_type": "code",
   "execution_count": 83,
   "metadata": {},
   "outputs": [
    {
     "name": "stdout",
     "output_type": "stream",
     "text": [
      "[(5+4j), 766, 69, 'dw', 'my', '5', 'a']\n",
      "[(5+4j), 766, 69, 'dw', 'my', '5', 'a', 1, 2, 3]\n",
      "1\n"
     ]
    }
   ],
   "source": [
    "ll = ['a','5',\"my\",'dw', 0x45, 766, 5+4j]\n",
    "\n",
    "# reverse:翻转列表内容，原地翻转\n",
    "ll.reverse()\n",
    "print(ll)\n",
    "\n",
    "# extend:扩展列表，两个列表，把一个直接拼接到后一个上\n",
    "ll.extend([1,2,3])\n",
    "print(ll)\n",
    "# count:查找列表中指定值或元素的个数\n",
    "x = 69\n",
    "x_len = ll.count(x)\n",
    "print(x_len)\n"
   ]
  },
  {
   "cell_type": "code",
   "execution_count": 85,
   "metadata": {},
   "outputs": [
    {
     "name": "stdout",
     "output_type": "stream",
     "text": [
      "[1, 2, 3, 4, 5, 666]\n",
      "[1, 2, 3, 777, 5, 666]\n",
      "4541266760\n",
      "[1, 2, 3, 777, 5, 666]\n",
      "4541266760\n",
      "********************\n",
      "[1, 2, 3, 777, 5, 666]\n",
      "4541266760\n",
      "[1, 2, 3, 777, 5, 666]\n",
      "4542010056\n",
      "******************************\n",
      "[1, 2, 3, 777, 5, 666]\n",
      "[1, 2, 3, 888, 5, 666]\n"
     ]
    }
   ],
   "source": [
    "# copy: 拷贝，此函数是拷贝，新的list\n",
    "# 与赋值 = 区别：copy是复制到新list，传值， =是指向地址，传址\n",
    "# 列表类型变量赋值示例\n",
    "a = [1,2,3,4,5,666]\n",
    "print(a)\n",
    "# list类型，简单赋值操作，是传地址\n",
    "b = a\n",
    "b[3] = 777\n",
    "print(a)\n",
    "print(id(a))\n",
    "print(b)\n",
    "print(id(b))\n",
    "\n",
    "print(\"*\" * 20)\n",
    "\n",
    "# 为了解决以上问题，list赋值需要采用copy函数\n",
    "b = a.copy()\n",
    "print(a)\n",
    "print(id(a))\n",
    "print(b)\n",
    "print(id(b))\n",
    "\n",
    "print(\"*\" * 30)\n",
    "\n",
    "\n",
    "b[3] = 888\n",
    "print(a)\n",
    "print(b)"
   ]
  },
  {
   "cell_type": "code",
   "execution_count": 1,
   "metadata": {},
   "outputs": [
    {
     "name": "stdout",
     "output_type": "stream",
     "text": [
      "4395075016\n",
      "4395077128\n",
      "4395077320\n",
      "4395075080\n",
      "4395075080\n",
      "4395077448\n",
      "[1, 2, 3, [10, 20, 666]]\n",
      "[1, 2, 3, [10, 20, 666]]\n",
      "[1, 2, 3, [10, 20, 30]]\n",
      "[1, 666, 3, [10, 20, 666]]\n",
      "[1, 2, 3, [10, 20, 666]]\n",
      "[1, 2, 3, [10, 20, 30]]\n"
     ]
    }
   ],
   "source": [
    "# 深拷贝跟浅拷贝的区别\n",
    "# 出现下列问题的原因是，copy‘函数是个浅拷贝函数，即只拷贝一层内容\n",
    "# 深拷贝需要使用特定工具:import copy\n",
    "import copy\n",
    "a = [1,2,3, [10, 20, 30]]\n",
    "b = a.copy()\n",
    "c = copy.deepcopy(a)\n",
    "print(id(a))\n",
    "print(id(b))\n",
    "print(id(c))\n",
    "print(id(a[3]))\n",
    "print(id(b[3]))\n",
    "print(id(c[3]))\n",
    "a[3][2] = 666\n",
    "print(a)\n",
    "print(b)\n",
    "print(c)\n",
    "a[1] = 666\n",
    "print(a)\n",
    "print(b)\n",
    "print(c)"
   ]
  },
  {
   "cell_type": "markdown",
   "metadata": {},
   "source": [
    "#### list遍历（未完待续...先插播程序结构）\n"
   ]
  },
  {
   "cell_type": "code",
   "execution_count": null,
   "metadata": {},
   "outputs": [],
   "source": []
  },
  {
   "cell_type": "code",
   "execution_count": null,
   "metadata": {},
   "outputs": [],
   "source": []
  },
  {
   "cell_type": "markdown",
   "metadata": {},
   "source": [
    "### range\n",
    "- 生成一个数字序列\n",
    "- 具体范围可以设定\n",
    "- 如果由表示数字范围的两个数，一般是包含左边数字不包含右边数字"
   ]
  },
  {
   "cell_type": "code",
   "execution_count": 91,
   "metadata": {},
   "outputs": [
    {
     "name": "stdout",
     "output_type": "stream",
     "text": [
      "0\n",
      "1\n",
      "2\n",
      "3\n",
      "4\n",
      "5\n",
      "6\n",
      "7\n",
      "8\n",
      "9\n"
     ]
    }
   ],
   "source": [
    "for i in range(0,10):\n",
    "    print(i)"
   ]
  },
  {
   "cell_type": "code",
   "execution_count": 92,
   "metadata": {},
   "outputs": [
    {
     "name": "stdout",
     "output_type": "stream",
     "text": [
      "0\n",
      "4\n",
      "45\n",
      "1\n",
      "as\n",
      "e\n"
     ]
    }
   ],
   "source": [
    "# java， c++ 程序员写的python代码是这样的\n",
    "for i in range(0,len(a)):\n",
    "    print(a[i])"
   ]
  },
  {
   "cell_type": "code",
   "execution_count": 90,
   "metadata": {},
   "outputs": [
    {
     "name": "stdout",
     "output_type": "stream",
     "text": [
      "0\n",
      "4\n",
      "45\n",
      "1\n",
      "as\n",
      "e\n"
     ]
    }
   ],
   "source": [
    "a= [0,4,45,1,'as',\"e\"]\n",
    "\n",
    "for i in a:\n",
    "    print(i)"
   ]
  },
  {
   "cell_type": "code",
   "execution_count": 87,
   "metadata": {},
   "outputs": [
    {
     "name": "stdout",
     "output_type": "stream",
     "text": [
      "1\n",
      "2\n",
      "3\n",
      "4\n",
      "5\n",
      "6\n"
     ]
    }
   ],
   "source": [
    "# while循环访问list\n",
    "# 一般不用while遍历list\n",
    "\n",
    "a = [1,2,3,4,5,6]\n",
    "length = len(a)\n",
    "# indx表示的是list的下标\n",
    "indx = 0\n",
    "while indx < length:\n",
    "    print(a[indx])\n",
    "    indx += 1"
   ]
  },
  {
   "cell_type": "markdown",
   "metadata": {},
   "source": [
    "### for-else语句\n",
    "- 当for循环结束的时候，会执行else语句\n",
    "- else语句是可选语句"
   ]
  },
  {
   "cell_type": "markdown",
   "metadata": {},
   "source": [
    "### 循环之break,continue,pass\n",
    "- break： 无条件结束整个循环，简称循环猝死\n",
    "- continue：无条件结束本次循环，从新进入下一轮循环\n",
    "- pass：表示略过，通常用于站位"
   ]
  },
  {
   "cell_type": "markdown",
   "metadata": {},
   "source": [
    "### 元组-tuple\n",
    "- 元组可以看成是一个不可更改的list \n",
    "- 有序列表\n",
    "- 元组数据值可以访问，不能修改！\n",
    "- 元组的数据可以是任意类型\n",
    "- 总之，list所有特性，除了可修改外，元组都具有\n",
    "- 所以，list具有的一些操作，比如索引，分片，序列相加，相乘，成员资格操作等，一模一样"
   ]
  },
  {
   "cell_type": "code",
   "execution_count": 18,
   "metadata": {},
   "outputs": [
    {
     "name": "stdout",
     "output_type": "stream",
     "text": [
      "<class 'tuple'>\n"
     ]
    }
   ],
   "source": [
    "t=()\n",
    "print(type(t))"
   ]
  },
  {
   "cell_type": "code",
   "execution_count": 30,
   "metadata": {},
   "outputs": [
    {
     "name": "stdout",
     "output_type": "stream",
     "text": [
      "4\n",
      "4\n",
      "(3, 4)\n",
      "[3, 4]\n",
      "(10, 11, 12, 1, 2, 3, 4, 5)\n",
      "[10, 11, 12, 1, 2, 3, 4, 5]\n",
      "(1, 2, 3, 4, 5, 1, 2, 3, 4, 5, 1, 2, 3, 4, 5)\n",
      "YES\n",
      "1 2 3 4 5 1 2 3 4 5 1 2 3 4 5 "
     ]
    }
   ],
   "source": [
    "t=(1,2,3,4,5)\n",
    "l=[1,2,3,4,5]\n",
    "#索引\n",
    "print(t[3])\n",
    "print(l[3])\n",
    "#切片\n",
    "print(t[2:4])\n",
    "print(l[2:4])\n",
    "#相加\n",
    "t0=(10,11,12)\n",
    "l0=[10,11,12]\n",
    "print(t0+t)\n",
    "print(l0+l)\n",
    "#相乘\n",
    "t = t * 3\n",
    "print(t)\n",
    "#成员检测\n",
    "if 2 in t:\n",
    "    print(\"YES\")\n",
    "else:\n",
    "    print(\"NO\")\n",
    "#遍历\n",
    "for i in t:\n",
    "    print(i, end=\" \")\n",
    "#不能修改！\n",
    "# t[4]=0\n",
    "l[4]=0"
   ]
  },
  {
   "cell_type": "markdown",
   "metadata": {},
   "source": [
    "#### 元组的函数\n",
    "- 函数基本和list一致，除了修改的\n",
    "- 内置函数查看help(tuple）"
   ]
  },
  {
   "cell_type": "code",
   "execution_count": 50,
   "metadata": {},
   "outputs": [
    {
     "name": "stdout",
     "output_type": "stream",
     "text": [
      "5\n",
      "5\n",
      "1\n",
      "(1, 2, 3, 4, 5)\n",
      "()\n",
      "[2]\n",
      "sad\n"
     ]
    }
   ],
   "source": [
    "t = (1,2,3,4,5)\n",
    "# len: 获取元组的长度\n",
    "print(len(t))\n",
    "# max, min:最大最小值\n",
    "# 如果，列表或元组中有多个最大最小值，则实际打印出哪个\n",
    "print(max(t))\n",
    "print(min(t))\n",
    "\n",
    "# tuple:转化或创建元组\n",
    "l = [1,2,3,4,5]\n",
    "t = tuple(l)\n",
    "print(t)\n",
    "\n",
    "t = tuple()\n",
    "print(t)\n",
    "\n",
    "#插播一个python交换变量方法\n",
    "a = \"sad\"\n",
    "b = [2]\n",
    "a,b = b,a\n",
    "print(a)\n",
    "print(b)"
   ]
  },
  {
   "cell_type": "code",
   "execution_count": null,
   "metadata": {},
   "outputs": [],
   "source": []
  },
  {
   "cell_type": "markdown",
   "metadata": {},
   "source": [
    "### 集合-set\n",
    "- 集合和数学中的概念差不多\n",
    "- 一堆确定的无序的唯一的数据，集合中每一个数据成为一个元素\n",
    "- 集合内数据无序，即无法使用索引和分片\n",
    "- 集合内部数据元素具有唯一性，可以用来排除重复数据\n",
    "- 集合内的数据，str, int, float, tuple等，不可以是list"
   ]
  },
  {
   "cell_type": "code",
   "execution_count": 52,
   "metadata": {},
   "outputs": [
    {
     "name": "stdout",
     "output_type": "stream",
     "text": [
      "<class 'set'>\n",
      "set()\n",
      "{1, 2, 3, 4, 9, (9, 10), (1, 'ad', 90)}\n",
      "<class 'dict'>\n",
      "{}\n"
     ]
    }
   ],
   "source": [
    "# 集合的定义\n",
    "s = set()\n",
    "print(type(s))\n",
    "print(s)\n",
    "\n",
    "# 此时，大括号内一定要有值，否则定义出的是一个dict\n",
    "s = {1,2,3,4,(1,'ad',90),(9),(9,10)}\n",
    "print(s)\n",
    "\n",
    "# 如果只是用大括号定义，则定义的是一个dict类型\n",
    "d = {}\n",
    "print(type(d))\n",
    "print(d)"
   ]
  },
  {
   "cell_type": "code",
   "execution_count": 1,
   "metadata": {},
   "outputs": [
    {
     "name": "stdout",
     "output_type": "stream",
     "text": [
      "{545, 1, 3, 2, 4, 23, 223}\n"
     ]
    }
   ],
   "source": [
    "s = set()\n",
    "\n",
    "# 以下集合在初始化后自动过滤掉重复元素\n",
    "s = {23,223,545,3,1,2,3,4,3,2,3,1,2,4,3}\n",
    "print(s)"
   ]
  },
  {
   "cell_type": "code",
   "execution_count": 63,
   "metadata": {},
   "outputs": [
    {
     "name": "stdout",
     "output_type": "stream",
     "text": [
      "{1, 2, 3, 4}\n"
     ]
    }
   ],
   "source": [
    "# 集合函数\n",
    "# len, max, min:跟其他基本函数一致\n",
    "\n",
    "# 集合额数学操作\n",
    "s1 = {1,2,3,4,5,6}\n",
    "s2 = {5,6,7,8,9}\n",
    "\n",
    "s_1 = s1 - s2\n",
    "print(s_1)\n",
    "\n",
    "# s_2 = s1 + s2\n",
    "# print(s_2)\n",
    "\n"
   ]
  },
  {
   "cell_type": "code",
   "execution_count": 66,
   "metadata": {},
   "outputs": [
    {
     "name": "stdout",
     "output_type": "stream",
     "text": [
      "{1, 2, 3, 4, 1000, 9, (9, 10), (1, 'ad', 90)}\n",
      "{5, 6}\n",
      "{1, 2, 3, 4}\n",
      "False\n",
      "True\n"
     ]
    }
   ],
   "source": [
    "#集合内置函数\n",
    "# help(set)\n",
    "s.add(1000)\n",
    "print(s)\n",
    "\n",
    "# 集合函数\n",
    "# intersection: 交集\n",
    "# difference:差集\n",
    "# union: 并集\n",
    "# issubset: 检查一个集合是否为另一个子集\n",
    "# issuperset: 检查一个集合是否为另一个超集\n",
    "s1 = {1,2,3,4,5,6}\n",
    "s2 = {5,6,7,8,9}\n",
    "s3 = {1,2}\n",
    "\n",
    "s_1 = s1.intersection(s2)\n",
    "print(s_1)\n",
    "\n",
    "s_2 = s1.difference(s2)\n",
    "print(s_2)\n",
    "\n",
    "s_3 = s1.issubset(s2)\n",
    "print(s_3)\n",
    "\n",
    "s_4 = s1.issuperset(s3)\n",
    "print(s_4)"
   ]
  },
  {
   "cell_type": "markdown",
   "metadata": {},
   "source": [
    "#### frozen set:冰冻集合\n",
    "- 并冻和就是不可以进行任何修改的集合\n",
    "- frozenset是一种特殊集合"
   ]
  },
  {
   "cell_type": "code",
   "execution_count": 71,
   "metadata": {},
   "outputs": [
    {
     "name": "stdout",
     "output_type": "stream",
     "text": [
      "<class 'frozenset'>\n",
      "frozenset()\n"
     ]
    },
    {
     "data": {
      "text/plain": [
       "2"
      ]
     },
     "execution_count": 71,
     "metadata": {},
     "output_type": "execute_result"
    }
   ],
   "source": [
    "s = frozenset()\n",
    "print(type(s))\n",
    "print(s)\n",
    "\n",
    "s = {2,3}\n",
    "s.pop()"
   ]
  },
  {
   "cell_type": "markdown",
   "metadata": {},
   "source": [
    "### dict字典\n",
    "- 字典是一种组合数据，没有顺序的组合数据，数据以键值对形式出现\n",
    "- 字典是序列类型，但是是无序序列，所以没有分片和索引\n",
    "- 字典中的数据每个都有键值对组成，即kv对\n",
    "    - key: 必须是可哈希的值，比如int,string,float,tuple, 但是，list,set,dict 不行\n",
    "    - value: 任何值\n"
   ]
  },
  {
   "cell_type": "code",
   "execution_count": 74,
   "metadata": {},
   "outputs": [
    {
     "name": "stdout",
     "output_type": "stream",
     "text": [
      "{}\n",
      "{}\n",
      "{'one': 1, 'two': 2, 'three': 3}\n",
      "{'one': 1, 'two': 2, 'three': 3}\n",
      "{'one': 1, 'two': 2, 'three': 3}\n",
      "{'one': 1, 'two': 2, 'three': 3}\n"
     ]
    }
   ],
   "source": [
    "# 字典的创建\n",
    "# 创建空字典1\n",
    "d = {}\n",
    "print(d)\n",
    "\n",
    "# 创建空字典2\n",
    "d = dict()\n",
    "print(d)\n",
    "\n",
    "# 创建有值的字典， 每一组数据用冒号隔开， 每一对键值对用逗号隔开\n",
    "d = {\"one\":1, \"two\":2, \"three\":3}\n",
    "print(d)\n",
    "\n",
    "# 用dict创建有内容字典1\n",
    "d = dict({\"one\":1, \"two\":2, \"three\":3})\n",
    "print(d)\n",
    "\n",
    "# 用dict创建有内容字典2\n",
    "# 利用关键字参数\n",
    "d = dict(one=1, two=2, three=3)\n",
    "print(d)\n",
    "\n",
    "\n",
    "# \n",
    "d = dict( [(\"one\",1), (\"two\",2), (\"three\",3)])\n",
    "print(d)"
   ]
  },
  {
   "cell_type": "markdown",
   "metadata": {},
   "source": [
    "#### dict操作\n",
    "- 访问数据\n",
    "- 修改数据\n",
    "- 删除数据\n",
    "- 检测数据\n",
    "- 遍历字典"
   ]
  },
  {
   "cell_type": "code",
   "execution_count": 73,
   "metadata": {},
   "outputs": [
    {
     "name": "stdout",
     "output_type": "stream",
     "text": [
      "1\n",
      "{'one': 'eins', 'two': 2, 'three': 3}\n",
      "{'two': 2, 'three': 3}\n"
     ]
    }
   ],
   "source": [
    "# 访问数据\n",
    "d = {\"one\":1, \"two\":2, \"three\":3}\n",
    "# 注意访问格式\n",
    "# 中括号内是键值\n",
    "print(d[\"one\"])\n",
    "\n",
    "\n",
    "d[\"one\"] = \"eins\"\n",
    "print(d)\n",
    "\n",
    "# 删除某个操作\n",
    "# 使用del操作\n",
    "del d[\"one\"]\n",
    "print(d)\n",
    "\n",
    "# 成员检测， in， not in\n",
    "# 成员检测检测的是key内容\n",
    "d = {\"one\":1, \"two\":2, \"three\":3}\n",
    "\n",
    "if 2 in d:\n",
    "    print(\"value\")\n",
    "    \n",
    "if \"two\" in d:\n",
    "    print(\"key\")\n",
    "    \n",
    "if (\"two\",2) in d:\n",
    "    print(\"kv\")"
   ]
  },
  {
   "cell_type": "code",
   "execution_count": 75,
   "metadata": {},
   "outputs": [
    {
     "name": "stdout",
     "output_type": "stream",
     "text": [
      "one 1\n",
      "two 2\n",
      "three 3\n",
      "one 1\n",
      "two 2\n",
      "three 3\n",
      "1\n",
      "2\n",
      "3\n",
      "one -- 1\n",
      "two -- 2\n",
      "three -- 3\n"
     ]
    }
   ],
   "source": [
    "# 便利在python2 和 3 中区别比较大，代码不通用\n",
    "# 按key来使用for循环\n",
    "d = {\"one\":1, \"two\":2, \"three\":3}\n",
    "# 使用for循环，直接按key值访问\n",
    "for k in d:\n",
    "    print(k,  d[k])\n",
    "    \n",
    "# 上述代码可以改写成如下\n",
    "for k in d.keys():\n",
    "    print(k,  d[k])\n",
    "    \n",
    "# 只访问字典的值\n",
    "for v in d.values():\n",
    "    print(v)\n",
    "    \n",
    "# 注意以下特殊用法\n",
    "for k,v in d.items():\n",
    "    print(k,'--',v)"
   ]
  },
  {
   "cell_type": "code",
   "execution_count": 86,
   "metadata": {},
   "outputs": [
    {
     "name": "stdout",
     "output_type": "stream",
     "text": [
      "{'one': 1, 'two': 2, 'three': 3}\n",
      "{'two': 2}\n"
     ]
    }
   ],
   "source": [
    "# 字典生成式\n",
    "d = {\"one\":1, \"two\":2, \"three\":3}\n",
    "\n",
    "# 常规字典生成式\n",
    "dd = {k:v for k,v in d.items()}\n",
    "print(dd)\n",
    "\n",
    "\n",
    "# 加限制条件的字典生成式\n",
    "dd = {k:v for k,v in d.items() if v % 2 == 0}\n",
    "print(dd)"
   ]
  },
  {
   "cell_type": "markdown",
   "metadata": {},
   "source": [
    "### 字典函数\n",
    "- 通用函数： len, max, min, dict\n",
    "- clear: 清空字典\n",
    "- items: 返回字典的键值对组成的元组格式\n",
    "- keys:返回字典的键组成的一个结构\n",
    "- values: 返回字典的键组成的一个结构\n",
    "- get: 根据制定键返回相应的值， 好处是，可以设置默认值\n",
    "- fromkeys: 使用指定的序列作为键，使用一个值作为字典的所有的键的值"
   ]
  },
  {
   "cell_type": "code",
   "execution_count": 85,
   "metadata": {},
   "outputs": [
    {
     "name": "stdout",
     "output_type": "stream",
     "text": [
      "{'one': 1, 'two': 2, 'three': 3}\n",
      "[1, 2, 3, 4]\n"
     ]
    }
   ],
   "source": [
    "# 通用函数： len, max, min, dict\n",
    "# str(字典): 返回字典的字符串格式\n",
    "d = {\"one\":1, \"two\":2, \"three\":3}\n",
    "print(str(d))\n",
    "l = [1,2,3,4]\n",
    "print(str(l))"
   ]
  },
  {
   "cell_type": "code",
   "execution_count": 78,
   "metadata": {},
   "outputs": [
    {
     "name": "stdout",
     "output_type": "stream",
     "text": [
      "<class 'dict_items'>\n",
      "dict_items([('one', 1), ('two', 2), ('three', 3)])\n"
     ]
    }
   ],
   "source": [
    "# clear: 清空字典\n",
    "# items: 返回字典的键值对组成的元组格式\n",
    "\n",
    "d = {\"one\":1, \"two\":2, \"three\":3}\n",
    "i = d.items()\n",
    "print(type(i))\n",
    "print(i)"
   ]
  },
  {
   "cell_type": "code",
   "execution_count": 82,
   "metadata": {},
   "outputs": [
    {
     "name": "stdout",
     "output_type": "stream",
     "text": [
      "<class 'dict_keys'>\n",
      "dict_keys(['eins', 'zwei', 'drei'])\n",
      "<class 'dict_values'>\n",
      "dict_values(['hahahahahah', 'hahahahahah', 'hahahahahah'])\n"
     ]
    }
   ],
   "source": [
    "# keys:返回字典的键组成的一个结构\n",
    "k = d.keys()\n",
    "print(type(k))\n",
    "print(k)\n",
    "\n",
    "# values: 同理，一个可迭代的结构\n",
    "v = d.values()\n",
    "print(type(v))\n",
    "print(v)"
   ]
  },
  {
   "cell_type": "code",
   "execution_count": 87,
   "metadata": {},
   "outputs": [
    {
     "name": "stdout",
     "output_type": "stream",
     "text": [
      "None\n",
      "1\n",
      "100\n",
      "{'one': 1, 'two': 2, 'three': 3}\n"
     ]
    }
   ],
   "source": [
    "# get: 根据制定键返回相应的值， 好处是，可以设置默认值\n",
    "\n",
    "d = {\"one\":1, \"two\":2, \"three\":3}\n",
    "print(d.get(\"on333\"))\n",
    "\n",
    "# get默认值是None，可以设置\n",
    "print(d.get(\"one\", 100))\n",
    "print(d.get(\"one333\", 100))\n",
    "print(d)\n",
    "#体会以下代码跟上面代码的区别\n",
    "# print(d['on333'])"
   ]
  },
  {
   "cell_type": "code",
   "execution_count": 80,
   "metadata": {},
   "outputs": [
    {
     "name": "stdout",
     "output_type": "stream",
     "text": [
      "{'eins': 'hahahahahah', 'zwei': 'hahahahahah', 'drei': 'hahahahahah'}\n"
     ]
    }
   ],
   "source": [
    "# fromkeys: 使用指定的序列作为键，使用一个值作为字典的所有的键的值\n",
    "l = [\"eins\", \"zwei\", \"drei\"]\n",
    "# 注意fromkeys两个参数的类型\n",
    "# 注意fromkeys的调用主体\n",
    "d = dict.fromkeys(l, \"hahahahahah\")\n",
    "print(d)"
   ]
  },
  {
   "cell_type": "code",
   "execution_count": null,
   "metadata": {},
   "outputs": [],
   "source": []
  }
 ],
 "metadata": {
  "kernelspec": {
   "display_name": "Python 3",
   "language": "python",
   "name": "python3"
  },
  "language_info": {
   "codemirror_mode": {
    "name": "ipython",
    "version": 3
   },
   "file_extension": ".py",
   "mimetype": "text/x-python",
   "name": "python",
   "nbconvert_exporter": "python",
   "pygments_lexer": "ipython3",
   "version": "3.6.5"
  }
 },
 "nbformat": 4,
 "nbformat_minor": 2
}
