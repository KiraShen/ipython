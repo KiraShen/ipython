{
 "cells": [
  {
   "cell_type": "markdown",
   "metadata": {},
   "source": [
    "## 表达式\n",
    "- 由变量和运算符组成的代码\n",
    "\n",
    "## 运算符\n",
    "- 算数运算符\n",
    "- 比较运算符\n",
    "- 赋值运算符\n",
    "- 逻辑运算符\n",
    "- 位运算符\n",
    "- 成员运算符\n",
    "- 身份运算符\n",
    "\n",
    "### 算数运算符\n",
    "- +\n",
    "- -\n",
    "- *\n",
    "- /\n",
    "- // 整除\n",
    "- %  取余\n",
    "- ** 次幂"
   ]
  },
  {
   "cell_type": "code",
   "execution_count": 3,
   "metadata": {},
   "outputs": [
    {
     "name": "stdout",
     "output_type": "stream",
     "text": [
      "1.3333333333333333\n",
      "1\n",
      "1\n",
      "64\n"
     ]
    }
   ],
   "source": [
    "print(4/3)\n",
    "print(4//3)\n",
    "print(4%3)\n",
    "print(4**3)"
   ]
  },
  {
   "cell_type": "markdown",
   "metadata": {},
   "source": [
    "### 比较运算符\n",
    "- 等于==\n",
    "- 不等于!=\n",
    "- 大于>\n",
    "- 小于<\n",
    "- 不小于>=\n",
    "- 不大于<="
   ]
  },
  {
   "cell_type": "markdown",
   "metadata": {},
   "source": [
    "### 赋值运算符\n",
    "- =\n",
    "- += -= *= /= //= %= **="
   ]
  },
  {
   "cell_type": "markdown",
   "metadata": {},
   "source": [
    "### 逻辑运算符\n",
    "- and\n",
    "- or\n",
    "- not\n",
    "- 运算：按照顺序从左到右运算，一旦确定未来的值不再计算，直接返回"
   ]
  },
  {
   "cell_type": "code",
   "execution_count": 28,
   "metadata": {},
   "outputs": [
    {
     "name": "stdout",
     "output_type": "stream",
     "text": [
      "False\n",
      "True\n"
     ]
    }
   ],
   "source": [
    "print(not -100)\n",
    "\n",
    "print(True or xxxx)"
   ]
  },
  {
   "cell_type": "markdown",
   "metadata": {},
   "source": [
    "### 成员运算符\n",
    "- 判断某个变量是否是另一个变量的成员,结果为布尔值\n",
    "- in\n",
    "- not in"
   ]
  },
  {
   "cell_type": "code",
   "execution_count": 7,
   "metadata": {},
   "outputs": [
    {
     "name": "stdout",
     "output_type": "stream",
     "text": [
      "True\n",
      "False\n",
      "False\n",
      "True\n"
     ]
    }
   ],
   "source": [
    "list = [1,2,3,4,5]\n",
    "num1 = 2\n",
    "num2 = 9\n",
    "print(num1 in list)\n",
    "print(num2 in list)\n",
    "print(num1 not in list)\n",
    "print(num2 not in list)"
   ]
  },
  {
   "cell_type": "markdown",
   "metadata": {},
   "source": [
    "### 身份运算符\n",
    "- name id value \n",
    "- 判断两个变量是否为同一个变量，不意味着值相同，但值相同也未必同一个\n",
    "- is和==区别：is判断两个变量的引用对象是否为同一个，==是判断引用变量的值是否相等\n",
    "- is\n",
    "- not is"
   ]
  },
  {
   "cell_type": "code",
   "execution_count": 1,
   "metadata": {},
   "outputs": [
    {
     "name": "stdout",
     "output_type": "stream",
     "text": [
      "False\n",
      "True\n",
      "False\n",
      "True\n",
      "4479623120\n",
      "4479622960\n",
      "4480209928\n",
      "4480209736\n",
      "4480104624\n",
      "4480236600\n"
     ]
    }
   ],
   "source": [
    "a = [1,2,3]\n",
    "b = [1,2,3]\n",
    "print(b is a)\n",
    "print(b == a)\n",
    "\n",
    "c = 10000\n",
    "d = 10000\n",
    "print(c is d)\n",
    "print(c == d)\n",
    "print(id(c))\n",
    "print(id(d))\n",
    "\n",
    "e = [1,2,3,4]\n",
    "f = e[2:3]\n",
    "print(id(e))\n",
    "print(id(f))\n",
    "\n",
    "h = \"sadadeerfn\"\n",
    "g = h[3:5]\n",
    "print(id(h))\n",
    "print(id(g))\n"
   ]
  },
  {
   "cell_type": "markdown",
   "metadata": {},
   "source": [
    "### 位运算符\n",
    "- 把数字看出二进制进行按位计算\n",
    "- 位或|\n",
    "- 位与&\n",
    "- 位异或^\n",
    "- 位非~\n",
    "- 左移<<\n",
    "- 右移>>"
   ]
  },
  {
   "cell_type": "code",
   "execution_count": 18,
   "metadata": {},
   "outputs": [
    {
     "name": "stdout",
     "output_type": "stream",
     "text": [
      "60\n"
     ]
    }
   ],
   "source": [
    "a = 0b00001111\n",
    "b = 0b11110001\n",
    "\n",
    "print(a<<2)"
   ]
  },
  {
   "cell_type": "markdown",
   "metadata": {},
   "source": [
    "## 运算符优先级\n",
    "     **\t指数 (最高优先级)\n",
    "     ~ \t按位翻转\n",
    "     * / % //\t乘，除，取模和取整除\n",
    "     + -\t加法减法\n",
    "     >> <<\t右移，左移运算符\n",
    "     &\t位 'AND'\n",
    "     ^ |\t位运算符\n",
    "     <= < > >=\t比较运算符\n",
    "     <> == !=\t等于运算符\n",
    "     = %= /= //= -= += *= **=\t赋值运算符\n",
    "     is is not\t身份运算符\n",
    "     in not in\t成员运算符\n",
    "     not and or\t逻辑运算符"
   ]
  },
  {
   "cell_type": "markdown",
   "metadata": {},
   "source": [
    "python各种资料\n",
    "链接：https://pan.baidu.com/s/1eH9A2mT6b5Oac4Dmlxi-tg 密码：6m00"
   ]
  }
 ],
 "metadata": {
  "kernelspec": {
   "display_name": "Python 3",
   "language": "python",
   "name": "python3"
  },
  "language_info": {
   "codemirror_mode": {
    "name": "ipython",
    "version": 3
   },
   "file_extension": ".py",
   "mimetype": "text/x-python",
   "name": "python",
   "nbconvert_exporter": "python",
   "pygments_lexer": "ipython3",
   "version": "3.6.5"
  }
 },
 "nbformat": 4,
 "nbformat_minor": 2
}
