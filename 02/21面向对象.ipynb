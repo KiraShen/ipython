{
 "cells": [
  {
   "cell_type": "markdown",
   "metadata": {},
   "source": [
    "## 类的基本实现\n",
    "- 类的命名\n",
    "    - 遵守变量命名的规范\n",
    "    - 大驼峰（由一个或者多个单词构成，每个单词首字母大写，单词跟单词直接相连）\n",
    "    - 尽量避开跟系统命名相似的命名\n",
    "- 你如何声明一个类\n",
    "    - 必须用class关键字\n",
    "    - 类由属性和方法构成，其他不允许出现\n",
    "    - 成员属性定义可以直接使用变量赋值，如果没有值，使用None\n",
    "- 实例化类\n",
    "    \n",
    "        变量 = 类名() #实例化了一个对象\n",
    "- 访问对象成员\n",
    "    - 使用点操作符\n",
    "    \n",
    "             obj.成员属性名称\n",
    "             obj.成员方法 \n",
    "- 可以通过默认内置变量检查类和对象的所有成员\n",
    "    - 对象所有成员检查\n",
    "        \n",
    "            # dict前后各有两个下划线\n",
    "            obj.__dict__ \n",
    "    - 类所有的成员\n",
    "        \n",
    "            # dict前后各有两个下划线\n",
    "           class_name.__dict__\n",
    "    "
   ]
  },
  {
   "cell_type": "code",
   "execution_count": 9,
   "metadata": {},
   "outputs": [
    {
     "name": "stdout",
     "output_type": "stream",
     "text": [
      "None\n"
     ]
    }
   ],
   "source": [
    "'''\n",
    "定以一个类，用来形容普通的人\n",
    "'''\n",
    "# 定义一个类\n",
    "class BasicPeople():\n",
    "    # 用None给不确定的值赋值\n",
    "    name = None\n",
    "    gender = None\n",
    "    age = None\n",
    "# 类成员检查\n",
    "BasicPeople.__dict__\n",
    "\n",
    "# 实例化\n",
    "jack = BasicPeople()\n",
    "# 对象成员检查\n",
    "# jack.__dict__\n",
    "print(jack.name)"
   ]
  },
  {
   "cell_type": "code",
   "execution_count": 11,
   "metadata": {},
   "outputs": [],
   "source": [
    "# 关于类对成员和对象对成员\n"
   ]
  },
  {
   "cell_type": "code",
   "execution_count": 12,
   "metadata": {},
   "outputs": [],
   "source": [
    "# 关于类对私有成员"
   ]
  },
  {
   "cell_type": "markdown",
   "metadata": {},
   "source": [
    "## 面向对象的三大特性\n",
    "- 封装\n",
    "- 继承\n",
    "- 多态"
   ]
  },
  {
   "cell_type": "markdown",
   "metadata": {},
   "source": [
    "### 封装\n",
    "- 封装就是对对象的成员进行访问限制\n",
    "- 封装的三个级别：\n",
    "    - 公开，public\n",
    "    - 受保护的，protected\n",
    "    - 私有的，private\n",
    "    - public，private，protected不是关键字\n",
    "- 判别对象的位置\n",
    "    - 对象内部\n",
    "    - 对象外部\n",
    "    - 子类中\n",
    "- [python中下划线使用](http://blog.csdn.net/handsomekang/article/details/40303207)\n",
    "- 私有\n",
    "    - 私有成员是最高级别的封装，只能在当前类或对象中访问\n",
    "    - 在成员前面添加两个两个下划线即可\n",
    "    \n",
    "            class Person():\n",
    "                # name是共有的成员 \n",
    "                name = \"liuying\"\n",
    "                # __age就是私有成员\n",
    "                __age = 18\n",
    "    - Python的私有不是真私有，是一种成为name mangling的改名策略\n",
    "    可以使用对象._classname_attributename访问           \n",
    "- 受保护的封装  protected\n",
    "    - 受保护的封装是将对象成员进行一定级别的封装，然后，在类中或者子类中都\n",
    "    可以进行访问，但是在外部不可以\n",
    "    - 封装方法： 在成员名称前天机爱一个下划线即可\n",
    "- 公开的，公共的 public\n",
    "    - 公共的封装实际对成员没有任何操作，任何地方都可以访问  \n"
   ]
  },
  {
   "cell_type": "markdown",
   "metadata": {},
   "source": [
    "### 继承\n",
    "- 继承就是一个类可以获得另外一个类中的成员属性和成员方法\n",
    "- 作用： 减少代码，增加代码的复用功能， 同时可以设置类与类直接的关系\n",
    "- 继承与被继承的概念：\n",
    "    - 被继承的类叫父类，也叫基类，也叫超类\n",
    "    - 用于继承的类，叫子类，也叫派生类\n",
    "    - 继承与被继承一定存在一个 is-a 关系\n",
    "- 继承的语法，参见oop-2.ipynb\n",
    "- 继承的特征\n",
    "    - 所有的类都继承自object类，即所有的类都是object类的子类\n",
    "    - 子类一旦继承父类，则可以使用父类中除私有成员外的所有内容\n",
    "    - 子类继承父类后并没有将父类成员完全赋值到子类中，而是通过引用关系访问调用\n",
    "    - 子类中可以定义独有的成员属性和方法\n",
    "    - 子类中定义的成员和父类成员如果相同，则优先使用子类成员\n",
    "    - 子类如果想扩充父类的方法，可以在定义新方法的同时访问父类成员来进行代码重用，\n",
    "    可以使用 [父类名.父类成员] 的格式来调用父类成员，也可以使用super().父类成员的\n",
    "    格式来调用\n",
    "- 继承变量函数的查找顺序问题\n",
    "    - 优先查找自己的变量\n",
    "    - 没有则查找父类\n",
    "    - 构造函数如果本类中没有定义，则自动查找调用父类构造函数\n",
    "    - 如果本类有定义，则不在继续向上查找\n",
    "- 构造函数\n",
    "    - 是一类特殊的函数，在类进行实例化之前进行调用\n",
    "    - 如果定义了构造函数，则实例化时使用构造函数，不查找父类构造函数\n",
    "    - 如果没定义，则自动查找父类构造函数\n",
    "    - 如果子类没定义，父类的构造函数带参数，则构造对象时的参数应该按父类参数构造 \n",
    "- super\n",
    "    - super不是关键字， 而是一个类\n",
    "    - super的作用是获取MRO（MethodResolustionOrder）列表中的第一个类\n",
    "    - super于父类直接没任何实质性关系，但通过super可以调用到父类\n",
    "    - super使用两个方,参见在构造函数中调用父类的构造函数\n",
    "    \n",
    "- 单继承和多继承\n",
    "    - 单继承：每个类只能继承一个类\n",
    "    - 多继承，每个类允许继承多个类\n",
    "    \n",
    "- 单继承和多继承的优缺点\n",
    "    - 单继承：\n",
    "        - 传承有序逻辑清晰语法简单隐患少呀\n",
    "        - 功能不能无限扩展，只能在当前唯一的继承链中扩展\n",
    "    - 多继承：\n",
    "        - 优点：类的功能扩展方便\n",
    "        - 缺点：继承关系混乱\n",
    "        \n",
    "- 菱形继承/钻石继承问题\n",
    "    - 多个子类继承自同一个父类，这些子类由被同一个类继承，于是继承关系图形成一个菱形图谱\n",
    "    - [MRO](https://www.cnblogs.com/whatisfantasy/p/6046991.html)\n",
    "    - 关于多继承的MRO\n",
    "        - MRO就是多继承中，用于保存继承顺序的一个列表\n",
    "        - python本身采用C3算法来多多继承的菱形继承进行计算的结果\n",
    "        - MRO列表的计算原则：\n",
    "            - 子类永远在父类前面\n",
    "            - 如果多个父类，则根据继承语法中括号内类的书写顺序存放\n",
    "            - 如果多个类继承了同一个父类，孙子类中只会选取继承语法括号中第一个父类的父类\n",
    "            \n",
    "- 构造函数\n",
    "    - 在对象进行实例化的时候，系统自动调用的一个函数叫构造函数，通常此函数用来对实例对象进行初始化，顾名\n",
    "    - 构造函数一定要有，如果没有，则自动向上查找，按照MRO顺序，直到找到为止\n",
    "    \n"
   ]
  },
  {
   "cell_type": "markdown",
   "metadata": {},
   "source": [
    "### 多态\n",
    "- 多态就是同一个对象在不同情况下有不同的状态出现\n",
    "- 多态不是语法，是一种设计思想\n",
    "- 多态性： 一种调用方式，不同的执行效果\n",
    "- 多态： 同一事物的多种形态，动物分为人类，狗类，猪类\n",
    "- [多态和多态性](https://www.cnblogs.com/luchuangao/p/6739557.html)\n",
    "\n",
    "- Mixin设计模式\n",
    "    - 主要采用多继承方式对类的功能进行扩展\n",
    "    - [Mixin概念](https://www.zhihu.com/question/20778853)\n",
    "    - [MRO and Mixin](http://blog.csdn.net/robinjwong/article/details/48375833)\n",
    "    - [Mixin模式](https://www.cnblogs.com/xybaby/p/6484262.html)\n",
    "    - [Mixin MRO](http://runforever.github.io/2014-07-19/2014-07-19-python-mixin%E5%AD%A6%E4%B9%A0%E7%AC%94%E8%AE%B0/)\n",
    "    - [MRO](http://xiaocong.github.io/blog/2012/06/13/python-mixin-and-mro/)\n",
    "    \n",
    "- 我们使用多继承语法来实现Minxin\n",
    "- 使用Mixin实现多继承的时候非常小心\n",
    "    - 首先他必须表示某一单一功能，而不是某个物品\n",
    "    - 职责必须单一，如果由多个功能，则写多个Mixin\n",
    "    - Mixin不能依赖于子类的实现\n",
    "    - 子类及时没有继承这个Mixin类， 也能照样工作，只是缺少了某个功能\n",
    "- 优点\n",
    "    - 使用Mixin可以在不对类进行任何修改的情况下，扩充功能\n",
    "    - 可以方便的组织和维护不同功能组件的划分\n",
    "    - 可以根据需要任意调整功能类的组合\n",
    "    - 可以避免创建很多新的类，导致类的继承混乱\n"
   ]
  },
  {
   "cell_type": "code",
   "execution_count": null,
   "metadata": {},
   "outputs": [],
   "source": []
  }
 ],
 "metadata": {
  "kernelspec": {
   "display_name": "Python 3",
   "language": "python",
   "name": "python3"
  },
  "language_info": {
   "codemirror_mode": {
    "name": "ipython",
    "version": 3
   },
   "file_extension": ".py",
   "mimetype": "text/x-python",
   "name": "python",
   "nbconvert_exporter": "python",
   "pygments_lexer": "ipython3",
   "version": "3.6.5"
  }
 },
 "nbformat": 4,
 "nbformat_minor": 2
}
