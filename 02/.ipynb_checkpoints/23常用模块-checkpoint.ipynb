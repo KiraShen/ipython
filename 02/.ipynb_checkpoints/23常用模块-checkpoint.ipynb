{
 "cells": [
  {
   "cell_type": "markdown",
   "metadata": {},
   "source": [
    "# 常用模块\n",
    "- python常用模块\n",
    "    - calendar\n",
    "    - time\n",
    "    - datetime\n",
    "    - timeit\n",
    "    - os\n",
    "    - shutil\n",
    "    - zip\n",
    "    - math\n",
    "    - string\n",
    "    - 上述所有模块使用理论上都应该先导入，string是特例\n",
    "\n",
    "\n",
    "- help(module)\n",
    "    - 可以查看该模块手册\n",
    "    \n",
    "- mDesigner的python模块\n",
    "    - 手册：https://mdesigner.microduino.cn/Built-in.html \n",
    "    - import time\n",
    "    - import random\n",
    "    - import datetime\n",
    "    - import re\n",
    "    - import json\n",
    "    - import sprite"
   ]
  },
  {
   "cell_type": "markdown",
   "metadata": {},
   "source": [
    "# calendar\n",
    "- 跟日历相关的模块"
   ]
  },
  {
   "cell_type": "code",
   "execution_count": 9,
   "metadata": {},
   "outputs": [
    {
     "name": "stdout",
     "output_type": "stream",
     "text": [
      "<class 'str'>\n"
     ]
    }
   ],
   "source": [
    "# 使用需要先导入\n",
    "import calendar\n",
    "# calendar：　获取一年的日历字符串\n",
    "# 参数\n",
    "# w = 每个日期之间的间隔字符数\n",
    "# l = 每周所占用的行数\n",
    "# c = 每个月之间的间隔字符数\n",
    "cal = calendar.calendar(2018)\n",
    "print(type(cal))\n"
   ]
  },
  {
   "cell_type": "code",
   "execution_count": 10,
   "metadata": {},
   "outputs": [],
   "source": [
    "#help(calendar)"
   ]
  },
  {
   "cell_type": "markdown",
   "metadata": {},
   "source": [
    "# time模块\n",
    "### 时间戳\n",
    "    - 一个时间表示，根据不同语言，可以是整数或者浮点数\n",
    "    - 是从1970年1月1日0时0分0秒到现在经历的秒数\n",
    "    - 如果表示的时间是1970年以前或者太遥远的未来，可能出现异常\n",
    "    - 32位操作系统能够支持到2038年\n",
    "\n",
    "### UTC时间\n",
    "    - UTC又称为世界协调时间，以英国的格林尼治天文所在地区的时间作为参考的时间，也叫做世界标准时间。\n",
    "    - 中国时间是 UTC+8 东八区\n",
    "  \n",
    "### 夏令时\n",
    "    - 夏令时就是在夏天的时候将时间调快一小时，本意是督促大家早睡早起节省蜡烛！ 每天变成25个小时，本质没变还是24小时\n",
    "    \n",
    "### 时间元组 \n",
    "    - 一个包含时间内容的普通元组\n",
    "    \n",
    "    \n",
    "        索引      内容    属性            值\n",
    "\n",
    "        0       年       tm_year     2015\n",
    "        1       月       tm_mon      1～12\n",
    "        2       日       tm_mday     1～31\n",
    "        3       时       tm_hour     0～23\n",
    "        4       分       tm_min      0～59\n",
    "        5       秒       tm_sec      0～61  60表示闰秒  61保留值\n",
    "        6       周几     tm_wday     0～6\n",
    "        7       第几天    tm_yday     1～366\n",
    "        8       夏令时    tm_isdst    0，1，-1（表示夏令时）"
   ]
  },
  {
   "cell_type": "code",
   "execution_count": 7,
   "metadata": {},
   "outputs": [
    {
     "name": "stdout",
     "output_type": "stream",
     "text": [
      "1547076699.443054\n",
      "time.struct_time(tm_year=2019, tm_mon=1, tm_mday=10, tm_hour=7, tm_min=31, tm_sec=39, tm_wday=3, tm_yday=10, tm_isdst=0)\n",
      "7\n"
     ]
    }
   ],
   "source": [
    "# 需要单独导入\n",
    "import time\n",
    "\n",
    "# 得到时间戳\n",
    "tt = time.time()\n",
    "print(tt)\n",
    "\n",
    "# localtime， 得到当前时间的时间结构\n",
    "# 可以通过点号操作符得到相应的属性元素的内容\n",
    "t = time.localtime()\n",
    "print(t)\n",
    "print(t.tm_hour)"
   ]
  },
  {
   "cell_type": "code",
   "execution_count": 6,
   "metadata": {},
   "outputs": [
    {
     "name": "stdout",
     "output_type": "stream",
     "text": [
      "0\n",
      "1\n",
      "2\n",
      "3\n",
      "4\n"
     ]
    }
   ],
   "source": [
    "# mDesigner\n",
    "# time.sleep()用于在程序执行时进行指定时间的休息，单位为秒\n",
    "for i in range(5):\n",
    "    print(i)\n",
    "    time.sleep(1)"
   ]
  },
  {
   "cell_type": "code",
   "execution_count": 20,
   "metadata": {},
   "outputs": [
    {
     "name": "stdout",
     "output_type": "stream",
     "text": [
      "Help on built-in function localtime in module time:\n",
      "\n",
      "localtime(...)\n",
      "    localtime([seconds]) -> (tm_year,tm_mon,tm_mday,tm_hour,tm_min,\n",
      "                              tm_sec,tm_wday,tm_yday,tm_isdst)\n",
      "    \n",
      "    Convert seconds since the Epoch to a time tuple expressing local time.\n",
      "    When 'seconds' is not passed in, convert the current time instead.\n",
      "\n"
     ]
    }
   ],
   "source": [
    "#asctime() 返回元组的正常字符串化之后的时间格式 \n",
    "\n",
    "# ctime(): 获取字符串化的当前时间\n",
    "\n",
    "# strftime():将时间元组转化为自定义的字符串格式\n",
    "help(time.strftime)"
   ]
  },
  {
   "cell_type": "code",
   "execution_count": null,
   "metadata": {},
   "outputs": [],
   "source": []
  },
  {
   "cell_type": "code",
   "execution_count": null,
   "metadata": {},
   "outputs": [],
   "source": []
  },
  {
   "cell_type": "code",
   "execution_count": null,
   "metadata": {},
   "outputs": [],
   "source": []
  },
  {
   "cell_type": "code",
   "execution_count": null,
   "metadata": {},
   "outputs": [],
   "source": []
  },
  {
   "cell_type": "code",
   "execution_count": null,
   "metadata": {},
   "outputs": [],
   "source": []
  },
  {
   "cell_type": "code",
   "execution_count": 8,
   "metadata": {},
   "outputs": [
    {
     "name": "stdout",
     "output_type": "stream",
     "text": [
      "loads_before:  <class 'str'>\n",
      "dumps_after:  <class 'list'>\n"
     ]
    }
   ],
   "source": [
    "import json\n",
    "datas = \"[{'name': 'Mr.Zhang', 'age': 18, 'gender': 'male'},{'name': 'Lily', 'age': 17, 'gender': 'famale'},{'name': 'Maly', 'age': 19, 'gender': 'famale'}]\"\n",
    "\n",
    "print('loads_before: ', type(datas))\n",
    "\n",
    "datas = datas.replace(\"'\", '\"')\n",
    "datas_loads = json.loads(datas)\n",
    "\n",
    "print('dumps_after: ', type(datas_loads))"
   ]
  },
  {
   "cell_type": "code",
   "execution_count": null,
   "metadata": {},
   "outputs": [],
   "source": []
  },
  {
   "cell_type": "code",
   "execution_count": null,
   "metadata": {},
   "outputs": [],
   "source": []
  },
  {
   "cell_type": "code",
   "execution_count": null,
   "metadata": {},
   "outputs": [],
   "source": []
  },
  {
   "cell_type": "code",
   "execution_count": null,
   "metadata": {},
   "outputs": [],
   "source": []
  }
 ],
 "metadata": {
  "kernelspec": {
   "display_name": "Python 3",
   "language": "python",
   "name": "python3"
  },
  "language_info": {
   "codemirror_mode": {
    "name": "ipython",
    "version": 3
   },
   "file_extension": ".py",
   "mimetype": "text/x-python",
   "name": "python",
   "nbconvert_exporter": "python",
   "pygments_lexer": "ipython3",
   "version": "3.6.5"
  }
 },
 "nbformat": 4,
 "nbformat_minor": 2
}
