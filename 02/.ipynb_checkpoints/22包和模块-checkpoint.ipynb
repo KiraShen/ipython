{
 "cells": [
  {
   "cell_type": "markdown",
   "metadata": {},
   "source": [
    "### 模块\n",
    "- 一个模块就是一个包含pythoy代码的文件，后缀名是.py就可以，所以模块就是个python文件\n",
    "- 如何定义模块 what\n",
    "    - 模块就是一个普通文件，所以任何代码可以直接书写，\n",
    "    - 不过根据模块的规范，最好在模块中编写以下内容\n",
    "        - 函数\n",
    "        - 类\n",
    "        - 测试代码\n",
    "        \n",
    "- 为什么我们用模块->模块化设计 why\n",
    "    - 程序太大，编写维护非常不方便，需要拆分\n",
    "    - 模块可以增加代码重复利用的方式\n",
    "    - 当做命名空间使用，避免命名冲突\n",
    "\n",
    "- 如何使用模块\n",
    "    - 模块直接导入（假如模块名称直接以数字开头，需要借助importlib帮助）\n",
    "    - 语法\n",
    "        - import module_name module_name.function_name module_name.class_name\n",
    "    - import 模块 as 别名\n",
    "    - 有选择性的导入\n",
    "        - from module_name import func_name, class_name\n",
    "    - 导入模块所有内容\n",
    "        - from module_name import *\n",
    "\n",
    "\n",
    "- if __name__ == \"__main__\" 的使用\n",
    "    - 可以有效避免模块代码被导入的时候被动执行的问题\n",
    "    - 建议所有模块的入口都以此代码为入口\n",
    "    \n"
   ]
  },
  {
   "cell_type": "code",
   "execution_count": 22,
   "metadata": {},
   "outputs": [
    {
     "name": "stdout",
     "output_type": "stream",
     "text": [
      "hello,i'm module.\n"
     ]
    }
   ],
   "source": [
    "import person \n",
    "person.hello()\n",
    "\n",
    "jack = person.BasicPeople()\n",
    "# jack.sayHello()"
   ]
  },
  {
   "cell_type": "markdown",
   "metadata": {},
   "source": [
    "### 模块路径\n",
    "- 什么是模块的搜索路径：\n",
    "    - 加载模块的时候，系统会在那些地方寻找此模块\n",
    "\n",
    "- 系统默认的模块搜索路径\n",
    "    - import sys\n",
    "   - sys.path 属性可以获取路径列表\n",
    "  \n",
    "- 添加搜索路径\n",
    "    - sys.path.append(dir)\n",
    "\n",
    "- 模块的加载顺序\n",
    "    - 内存中已经加载好的模块\n",
    "    - 搜索python的内置模块\n",
    "    - 搜索sys.path路径\n",
    "\n"
   ]
  },
  {
   "cell_type": "code",
   "execution_count": 21,
   "metadata": {
    "scrolled": true
   },
   "outputs": [
    {
     "name": "stdout",
     "output_type": "stream",
     "text": [
      "<class 'list'>\n",
      "['', '/anaconda3/lib/python36.zip', '/anaconda3/lib/python3.6', '/anaconda3/lib/python3.6/lib-dynload', '/anaconda3/lib/python3.6/site-packages', '/anaconda3/lib/python3.6/site-packages/aeosa', '/anaconda3/lib/python3.6/site-packages/Django-1.11.16-py3.6.egg', '/anaconda3/lib/python3.6/site-packages/IPython/extensions', '/Users/apple/.ipython']\n",
      "\n",
      "/anaconda3/lib/python36.zip\n",
      "/anaconda3/lib/python3.6\n",
      "/anaconda3/lib/python3.6/lib-dynload\n",
      "/anaconda3/lib/python3.6/site-packages\n",
      "/anaconda3/lib/python3.6/site-packages/aeosa\n",
      "/anaconda3/lib/python3.6/site-packages/Django-1.11.16-py3.6.egg\n",
      "/anaconda3/lib/python3.6/site-packages/IPython/extensions\n",
      "/Users/apple/.ipython\n"
     ]
    }
   ],
   "source": [
    "import sys\n",
    "\n",
    "print( type(sys.path ))\n",
    "print( sys.path )\n",
    "\n",
    "for p in sys.path:\n",
    "    print(p)"
   ]
  },
  {
   "cell_type": "code",
   "execution_count": null,
   "metadata": {},
   "outputs": [],
   "source": []
  },
  {
   "cell_type": "markdown",
   "metadata": {},
   "source": [
    "### 包\n",
    "- 包是一种组织管理代码的方式，包里面存放的是模块 \n",
    "- 所以用于将模块包含在一起的文件夹就是包\n",
    "- 自定义包的结构\n",
    "\n",
    "      |---包\n",
    "      |---|--- __init__.py  包的标志文件\n",
    "      |---|--- 模块1\n",
    "      |---|--- 模块2\n",
    "      |---|--- 子包(子文件夹)\n",
    "      |---|---|--- __init__.py  包的标志文件\n",
    "      |---|---|--- 子包模块1\n",
    "      |---|---|--- 子包模块2\n",
    "\n",
    "\n",
    "- 包的导入操作\n",
    "\n",
    "- 直接导入一个包，可以使用__init__.py中的内容\n",
    "    - import package_name\n",
    "    - 使用方式是：\n",
    "          - package_name.func_name\n",
    "          - package_name.class_name.func_name()\n",
    "\n",
    "- 具体用法跟作用方式，跟上述简单导入一致\n",
    "    - import package_name as p\n",
    "\n",
    "- 导入包中某一个具体的模块\n",
    "    - import package.module\n",
    "    - 使用方法\n",
    "      - package.module.func_name\n",
    "      - package.module.class.fun()\n",
    "      - package.module.class.var\n",
    "      \n",
    "- 导入包中某一个具体的模块,取别名\n",
    "    - import package.module as pm\n",
    "\n",
    "- from ... import 导入\n",
    "    - from package import module1, module2, module3, .....\n",
    "\n",
    "- 此种导入方法不执行__init__的内容\n",
    "    - from pg import hello\n",
    "        - eg：p01.sayHello()\n",
    "\n",
    "- 导入当前包 __init__.py文件中所有的函数和类\n",
    "    - from package import *\n",
    "    - 在使用from package import * 的时候， * 可以导入的内容\n",
    "        - __init__.py中如果文件为空， 或者没有 __all__， 那么只可以把__init__中的内容导入\n",
    "        - __init__ 如果设置了__all__的值，那么则按照__all__ 指定的子包或者模块进行加载 如此则不会载入__init__中的内容\n",
    "        - __all__=['module1', 'module2', 'package1'.........]\n",
    "- 导入包中指定的模块的所有内容\n",
    "    - from package.module import *\n",
    "\n",
    "\n",
    "\n",
    "\n"
   ]
  },
  {
   "cell_type": "code",
   "execution_count": 54,
   "metadata": {},
   "outputs": [
    {
     "name": "stdout",
     "output_type": "stream",
     "text": [
      "hello,I'm package\n",
      "hello,i'm module1\n"
     ]
    }
   ],
   "source": [
    "#import 仅仅导入包的__init__.py\n",
    "import pkgs\n",
    "pkgs.init()\n",
    "# pkgs.hello()\n",
    "\n",
    "#from packages import * 导入内容看__init__.py\n",
    "from pkgs import *\n",
    "pkgs.module1.hello()\n",
    "# pkgs.module2.hello()"
   ]
  },
  {
   "cell_type": "code",
   "execution_count": null,
   "metadata": {},
   "outputs": [],
   "source": []
  }
 ],
 "metadata": {
  "kernelspec": {
   "display_name": "Python 3",
   "language": "python",
   "name": "python3"
  },
  "language_info": {
   "codemirror_mode": {
    "name": "ipython",
    "version": 3
   },
   "file_extension": ".py",
   "mimetype": "text/x-python",
   "name": "python",
   "nbconvert_exporter": "python",
   "pygments_lexer": "ipython3",
   "version": "3.6.5"
  }
 },
 "nbformat": 4,
 "nbformat_minor": 2
}
